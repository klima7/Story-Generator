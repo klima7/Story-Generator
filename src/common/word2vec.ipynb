{
 "cells": [
  {
   "cell_type": "code",
   "execution_count": 1,
   "metadata": {},
   "outputs": [],
   "source": [
    "import pickle\n",
    "from pathlib import Path\n",
    "\n",
    "from gensim.models import Word2Vec"
   ]
  },
  {
   "cell_type": "code",
   "execution_count": 2,
   "metadata": {},
   "outputs": [],
   "source": [
    "def dataset_iterator():\n",
    "    base_path = Path('../../data/binary_texts/')\n",
    "    filenames = ['ebooks17k_1.pickle', 'ebooks17k_2.pickle', 'ebooks17k_3.pickle', 'ebooks17k_4.pickle']\n",
    "    for filename in filenames:\n",
    "        path = base_path / filename\n",
    "        with open('../../data/binary_texts/ebooks17k_1.pickle', 'rb') as f:\n",
    "            corpus = pickle.load(f)"
   ]
  },
  {
   "cell_type": "code",
   "execution_count": 5,
   "metadata": {},
   "outputs": [],
   "source": [
    "with open('../../data/binary_texts/ebooks17k_1.pickle', 'rb') as f:\n",
    "    corpus = pickle.load(f)"
   ]
  },
  {
   "cell_type": "code",
   "execution_count": 8,
   "metadata": {},
   "outputs": [],
   "source": [
    "word2vec = Word2Vec(vector_size=100, window=5, min_count=20, workers=24)"
   ]
  },
  {
   "cell_type": "code",
   "execution_count": 9,
   "metadata": {},
   "outputs": [],
   "source": [
    "word2vec.build_vocab(corpus_file='../../data/line_sentence/no_punctuation.txt')"
   ]
  },
  {
   "cell_type": "code",
   "execution_count": null,
   "metadata": {},
   "outputs": [],
   "source": [
    "word2vec.train(\n",
    "    corpus_file='../../data/line_sentence/no_punctuation.txt',\n",
    "    total_examples=word2vec.corpus_count,\n",
    "    total_words=len(word2vec.wv),\n",
    "    epochs=100\n",
    ")"
   ]
  },
  {
   "cell_type": "code",
   "execution_count": 19,
   "metadata": {},
   "outputs": [
    {
     "name": "stdout",
     "output_type": "stream",
     "text": [
      "Most similar words to 'king': [('putin', 0.9750455021858215), ('poważnie', 0.972897469997406), ('jarowit', 0.9712374210357666), ('generał', 0.9707739353179932), ('nadinspektor', 0.96919184923172)]\n"
     ]
    }
   ],
   "source": [
    "similar_words = word2vec.wv.most_similar(\"król\", topn=5)\n",
    "print(\"Most similar words to 'king':\", similar_words)"
   ]
  }
 ],
 "metadata": {
  "kernelspec": {
   "display_name": "Python 3",
   "language": "python",
   "name": "python3"
  },
  "language_info": {
   "codemirror_mode": {
    "name": "ipython",
    "version": 3
   },
   "file_extension": ".py",
   "mimetype": "text/x-python",
   "name": "python",
   "nbconvert_exporter": "python",
   "pygments_lexer": "ipython3",
   "version": "3.10.9"
  },
  "orig_nbformat": 4
 },
 "nbformat": 4,
 "nbformat_minor": 2
}
