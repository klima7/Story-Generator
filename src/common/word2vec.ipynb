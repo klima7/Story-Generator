{
 "cells": [
  {
   "cell_type": "code",
   "execution_count": 1,
   "metadata": {},
   "outputs": [],
   "source": [
    "from gensim.models import Word2Vec"
   ]
  },
  {
   "cell_type": "code",
   "execution_count": 2,
   "metadata": {},
   "outputs": [],
   "source": [
    "word2vec = Word2Vec(\n",
    "    corpus_file='../../data/line_sentence/no_punctuation.txt',\n",
    "    vector_size=100,\n",
    "    window=5,\n",
    "    min_count=20,\n",
    "    workers=24,\n",
    "    epochs=int(90/4.2),\n",
    ")"
   ]
  },
  {
   "cell_type": "code",
   "execution_count": null,
   "metadata": {},
   "outputs": [],
   "source": [
    "word2vec.save(\"../../models/word2vec/word2vec\")"
   ]
  },
  {
   "cell_type": "code",
   "execution_count": 4,
   "metadata": {},
   "outputs": [
    {
     "name": "stdout",
     "output_type": "stream",
     "text": [
      "Most similar words to 'king': [('cesarz', 0.9378755688667297), ('książę', 0.9186221957206726), ('sułtan', 0.8664036393165588), ('monarcha', 0.8589164614677429), ('namiestnik', 0.8546720743179321), ('wezyr', 0.8460130095481873), ('car', 0.8428797721862793), ('herod', 0.8320150971412659), ('faraon', 0.8316853046417236), ('elektor', 0.8276839256286621), ('władca', 0.827511727809906), ('cezar', 0.8180984258651733), ('kniaź', 0.8119412660598755), ('królewicz', 0.8110429644584656), ('filip', 0.8066834211349487), ('napoleon', 0.7997085452079773), ('jagiełło', 0.7996661067008972), ('książe', 0.7965952754020691), ('landgraf', 0.7962957620620728), ('otton', 0.7943816781044006), ('piastun', 0.7942939400672913), ('wódz', 0.7918947339057922), ('imperator', 0.7908682227134705), ('satrapa', 0.7901268005371094), ('wielkorządca', 0.7897663116455078), ('tankred', 0.7891162633895874), ('margrabia', 0.7883800268173218), ('antypater', 0.7860118746757507), ('boemund', 0.7856763601303101), ('hetman', 0.7847594022750854), ('bazyli', 0.7835785150527954), ('petronas', 0.7834374308586121), ('august', 0.7813568711280823), ('legat', 0.7811460494995117), ('palatyn', 0.7809830904006958), ('emir', 0.7801176309585571), ('teodoryk', 0.7772424221038818), ('kanclerz', 0.7764376997947693), ('mieszko', 0.7751955389976501), ('tyran', 0.7719855904579163), ('wespazjan', 0.7703277468681335), ('konstancjusz', 0.7701473832130432), ('padyszach', 0.7701393365859985), ('kalif', 0.7695168852806091), ('carewicz', 0.7675052285194397), ('uzurpator', 0.7648675441741943), ('witołd', 0.7647931575775146), ('chan', 0.7632479667663574), ('hołdownik', 0.7628292441368103), ('hrabia', 0.7614567875862122), ('dworzanin', 0.7598006725311279), ('rycerz', 0.7586275935173035), ('wojewoda', 0.7578956484794617), ('kondeusz', 0.7574829459190369), ('diuk', 0.7572295069694519), ('neron', 0.7566412687301636), ('lotar', 0.756324052810669), ('antoniusz', 0.7550581097602844), ('sieciech', 0.7543752193450928), ('witeliusz', 0.7540258169174194), ('wielmoża', 0.7540174126625061), ('wicekról', 0.7533232569694519), ('fryderyk', 0.7519677877426147), ('konetabl', 0.7518502473831177), ('henryk', 0.7501029968261719), ('sewer', 0.7500727772712708), ('biskup', 0.7492684125900269), ('szambelan', 0.7465196847915649), ('patriarcha', 0.7464858293533325), ('patrycjusz', 0.7458423972129822), ('tyberiusz', 0.7454676032066345), ('książg', 0.7454608678817749), ('hospodar', 0.7453030943870544), ('papież', 0.7448321580886841), ('chagan', 0.7443504929542542), ('sobieski', 0.7437623143196106), ('oktawian', 0.7433498501777649), ('pompejusz', 0.7426848411560059), ('komtur', 0.7426829934120178), ('aleksander', 0.7419906854629517), ('czyngischan', 0.7417190074920654), ('doża', 0.7408167123794556), ('herakliusz', 0.7405457496643066), ('karol', 0.7403389811515808), ('saladyn', 0.7401413917541504), ('arcyksiążę', 0.7391346096992493), ('rzymianin', 0.7385953068733215), ('awdaniec', 0.7382468581199646), ('ferdynand', 0.7371180653572083), ('konstantyn', 0.7369811534881592), ('szach', 0.7363086342811584), ('kserkses', 0.7357901930809021), ('minos', 0.7349947094917297), ('arnulf', 0.7330958843231201), ('arcykapłan', 0.7327331900596619), ('świętopełk', 0.7326117157936096), ('antioch', 0.7324296832084656), ('klaudiusz', 0.7323808670043945), ('chlodwig', 0.7317575216293335), ('rządca', 0.7314042448997498)]\n"
     ]
    }
   ],
   "source": [
    "similar_words = word2vec.wv.most_similar(\"król\", topn=100)\n",
    "print(similar_words)"
   ]
  }
 ],
 "metadata": {
  "kernelspec": {
   "display_name": "Python 3",
   "language": "python",
   "name": "python3"
  },
  "language_info": {
   "codemirror_mode": {
    "name": "ipython",
    "version": 3
   },
   "file_extension": ".py",
   "mimetype": "text/x-python",
   "name": "python",
   "nbconvert_exporter": "python",
   "pygments_lexer": "ipython3",
   "version": "3.10.9"
  },
  "orig_nbformat": 4
 },
 "nbformat": 4,
 "nbformat_minor": 2
}
