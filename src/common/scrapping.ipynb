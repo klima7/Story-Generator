{
 "cells": [
  {
   "cell_type": "code",
   "execution_count": 1,
   "metadata": {},
   "outputs": [],
   "source": [
    "import requests\n",
    "from bs4 import BeautifulSoup\n",
    "from tqdm import tqdm"
   ]
  },
  {
   "attachments": {},
   "cell_type": "markdown",
   "metadata": {},
   "source": [
    "## basn.pl"
   ]
  },
  {
   "cell_type": "code",
   "execution_count": 1,
   "metadata": {},
   "outputs": [],
   "source": [
    "def extract_text_from_url(url):\n",
    "    response = requests.get(url)\n",
    "    soup = BeautifulSoup(response.content, 'html.parser')\n",
    "    content_div = soup.find('div', id='content-in')\n",
    "    return content_div.text"
   ]
  },
  {
   "cell_type": "code",
   "execution_count": 13,
   "metadata": {},
   "outputs": [],
   "source": [
    "names = ['korsarz', 'pinokio', 'calineczka', 'dziewczynka-z-zapalkami', 'krolowa-sniegu', 'na-jagody', 'niegrzeczne-myszy', 'janek-wedrowniczek', 'wesole-kotki', 'pimpus-sadelko', 'truskawka', 'trzy-male-swinki', 'z-krainy-basni', 'klara-tygrysek', 'zloty-arbuz', 'sierotka-marysia', 'brzydkie-kaczatko', 'aniol', 'czerwony-kapturek', 'cynowy-zolnierz', 'jas-fasola', 'krysztalowa-kula', 'mala-syrenka', 'kopciuszek', 'krawczyk', 'atlantyda', 'kundelki', 'ksiezniczka', 'ubogi-bogaty', 'wedrowny-grajek', 'ksiezycowy-prom', 'falszywe-lzy', 'przygoda-z-czartem', 'przygoda-z-literatura', 'przygoda-w-dzungli', 'tajemnicza-kraina', 'krolewna', 'gmor', 'pytania', 'sezamowa-gora', 'narzeczeni']"
   ]
  },
  {
   "cell_type": "code",
   "execution_count": 14,
   "metadata": {},
   "outputs": [],
   "source": [
    "for name in names:\n",
    "    try:\n",
    "        extracted_text = extract_text_from_url(f'https://basn.pl/bajki/{name}/')\n",
    "        with open(f'../../data/raw_texts/basnie/{name}.txt', 'wt') as f:\n",
    "            f.write(extracted_text)\n",
    "    except:\n",
    "        print(name)"
   ]
  },
  {
   "attachments": {},
   "cell_type": "markdown",
   "metadata": {},
   "source": [
    "## bajki-zasypianki.pl"
   ]
  },
  {
   "cell_type": "code",
   "execution_count": 40,
   "metadata": {},
   "outputs": [
    {
     "name": "stdout",
     "output_type": "stream",
     "text": [
      "['https://bajki-zasypianki.pl/jezyk-cyprian-liczy-gwiazdy/', 'https://bajki-zasypianki.pl/krotka-bajka/', 'https://bajki-zasypianki.pl/bajki/jezyk-cyprian/', 'https://bajki-zasypianki.pl/bajki/wycieczka-zoo/', 'https://bajki-zasypianki.pl/bajki/muzyka-lasu/', 'https://bajki-zasypianki.pl/bajki/wyprawa-na-ksiezyc/', 'https://bajki-zasypianki.pl/bajki/dobranocka/', 'https://bajki-zasypianki.pl/glosy-nocy/', 'https://bajki-zasypianki.pl/bajki/bajka-pod-choinke/', 'https://bajki-zasypianki.pl/bajki/bajka-o-kotku/', 'https://bajki-zasypianki.pl/usypianki-dla-dzieci/', 'https://bajki-zasypianki.pl/bajki-o-kotkach/', 'https://bajki-zasypianki.pl/bajka-o-kotku', 'https://bajki-zasypianki.pl/majowka', 'https://bajki-zasypianki.pl/bajki/bajka-o-sloncu/', 'https://bajki-zasypianki.pl/choinka', 'https://bajki-zasypianki.pl/bajki/zaczarowana-noc/', 'https://bajki-zasypianki.pl/bal-zabawek/', 'https://bajki-zasypianki.pl/bajki-disneya', 'https://bajki-zasypianki.pl/bajki/latawiec-wiatr/', 'https://bajki-zasypianki.pl/bajka-o-plecaku/', 'https://bajki-zasypianki.pl/dzien-babci-dziadka', 'https://bajki-zasypianki.pl/dzien-matki/', 'https://bajki-zasypianki.pl/tuchow-pszczoly/', 'https://bajki-zasypianki.pl/bajka-o-smoku', 'https://bajki-zasypianki.pl/tajemnica-poddasza/', 'https://bajki-zasypianki.pl/bajki/bajka-o-skrzatach/', 'https://bajki-zasypianki.pl/wierszyk-dla-dzieci/', 'https://bajki-zasypianki.pl/wyprawa-dromadera/', 'https://bajki-zasypianki.pl/bajki/pogoda-dzieci', 'https://bajki-zasypianki.pl/bajki/telefon/', 'https://bajki-zasypianki.pl/bajka-o-skrzacie/', 'https://bajki-zasypianki.pl/bajka-o-misiach/', 'https://bajki-zasypianki.pl/bajki-o-traktorach/', 'https://bajki-zasypianki.pl/bajki/bajka-o-traktorze/', 'https://bajki-zasypianki.pl/bajka-o-misiu-chrapciu/', 'https://bajki-zasypianki.pl/bajka-o-muchach/', 'https://bajki-zasypianki.pl/bajki/bajka-o-ekologii/', 'https://bajki-zasypianki.pl/bajka-o-drodze/', 'https://bajki-zasypianki.pl/zyrafa-klementynka/', 'https://bajki-zasypianki.pl/bajka-o-elfach/', 'https://bajki-zasypianki.pl/bajki/dobra-wrozka/', 'https://bajki-zasypianki.pl/bajka-o-fokach/', 'https://bajki-zasypianki.pl/bajka-o-kurze/', 'https://bajki-zasypianki.pl/bajka-wloska-o-miesiacach/', 'https://bajki-zasypianki.pl/bajka-o-smokach/', 'https://bajki-zasypianki.pl/bajka-o-nocy/', 'https://bajki-zasypianki.pl/bajka-afrykanska/', 'https://bajki-zasypianki.pl/bajka-indianska/', 'https://bajki-zasypianki.pl/bajka-portugalska-zaczarowany-palac/', 'https://bajki-zasypianki.pl/bociany-holandia/', 'https://bajki-zasypianki.pl/pierwsze-truskawki/', '../bajki/wojtus-i-szczurek/', '../niesmialosc-u-dzieci', '../bajki-o-dinozaurach', 'https://bajki-zasypianki.pl/bajka-o-dzielnym-jasiu', '../bajki/karolek-ma-braciszka/', '../dziecko-boi-sie-ciemnosci', 'https://bajki-zasypianki.pl/bajka-o-dentyscie', 'https://bajki-zasypianki.pl/klotnie-rodzenstwa/', 'https://bajki-zasypianki.pl/dziecko-w-przedszkolu/', 'https://bajki-zasypianki.pl/zly-dotyk/', 'https://bajki-zasypianki.pl/bajka-autyzm/', 'https://bajki-zasypianki.pl/bajki/mutyzm-bajka-cicha-myszka/', 'https://bajki-zasypianki.pl/bajka-o-sloniu', 'https://bajki-zasypianki.pl/bajka-wlosy/', 'https://bajki-zasypianki.pl/bajka-o-pilce-noznej', 'https://bajki-zasypianki.pl/bajki/bajki-lisy/', 'https://bajki-zasypianki.pl/bajka-madagaskar/', '../rozwod-dzieci', '../bajki/zle-sny/', '../bajki/choroba-w-rodzinie/', 'https://bajki-zasypianki.pl/bajka-o-niepelnosprawnosci']\n"
     ]
    }
   ],
   "source": [
    "def extract_urls():\n",
    "    response = requests.get(f'https://bajki-zasypianki.pl/czytanki-dla-dzieci/')\n",
    "    soup = BeautifulSoup(response.content, 'html.parser')\n",
    "    content_div = soup.find('div', class_='td-page-content')\n",
    "    lis = content_div.find_all('li')\n",
    "    hrefs = [li.find('a')['href'] for li in lis]\n",
    "    return hrefs\n",
    "    \n",
    "urls = extract_urls()\n",
    "print(urls)"
   ]
  },
  {
   "cell_type": "code",
   "execution_count": 41,
   "metadata": {},
   "outputs": [],
   "source": [
    "def extract_text_from_url(url):\n",
    "    response = requests.get(url)\n",
    "    soup = BeautifulSoup(response.content, 'html.parser')\n",
    "    content_div = soup.find('div', class_='td-post-content')\n",
    "    \n",
    "    return content_div.text"
   ]
  },
  {
   "cell_type": "code",
   "execution_count": null,
   "metadata": {},
   "outputs": [],
   "source": [
    "for i, url in enumerate(urls):\n",
    "    name = url.split('/')[-1]\n",
    "    try:\n",
    "        extracted_text = extract_text_from_url(url)\n",
    "        lines = extracted_text.split('\\n')\n",
    "        lines = lines[1:-17]\n",
    "        text = '\\n'.join(lines)\n",
    "        with open(f'../../data/raw_texts/bajki-zasypianki/{i}.txt', 'wt') as f:\n",
    "            f.write(text)\n",
    "    except:\n",
    "        print(url)"
   ]
  },
  {
   "attachments": {},
   "cell_type": "markdown",
   "metadata": {},
   "source": [
    "# bajkokraj.pl"
   ]
  },
  {
   "cell_type": "code",
   "execution_count": 53,
   "metadata": {},
   "outputs": [],
   "source": [
    "def extract_urls():\n",
    "    response = requests.get(f'https://www.bajkokraj.pl/spis-bajek/')\n",
    "    soup = BeautifulSoup(response.content, 'html.parser')\n",
    "    content_div = soup.find('main', id='main')\n",
    "    lis = content_div.find_all('li')\n",
    "    hrefs = [li.find('a')['href'] for li in lis]\n",
    "    return hrefs\n",
    "    \n",
    "urls = extract_urls()[:-1]"
   ]
  },
  {
   "cell_type": "code",
   "execution_count": 50,
   "metadata": {},
   "outputs": [
    {
     "data": {
      "text/plain": [
       "'\\nDawno, dawno temu, była sobie pewna mała dziewczynka o imieniu Ania. Tak, jak każda dziewczynka, Ania bardzo lubiła lalki. Każdego dnia bawiła się nimi w dom, dziecko i mamę lub inne przygody. Wszystkie lalki, które mają dzieci są do siebie czymś podobne, jednak jedna laleczka Ani była wyjątkowa. Umiała mówić, ruszać się i choć była małym, plastikowym przedmiotem, to miała prawdziwe serduszko. \\n\\nAnia miała wiele koleżanek w szkole, ale dla niej najważniejszą przyjaciółką była jej lalka. To jej zwierzała się z pierwszych miłosnych rozterek, to jej mówiła o swoich kłopotach a ona zawsze dobrze doradzała.\\nAnia i jej magiczna lalka\\nWszystkie koleżanki zazdrościły Ani lalkę, ponieważ była ona wyjątkowa spośród wszystkich innych. Nie dosyć, że mówi, ale ma także serce. Ona jest zdecydowanie kimś więcej niż wszystkie inne przyjaciółki. Ania wie, że jej lalka wspiera ją i będzie jeszcze przez kolejne lata. I tak rzeczywiście się stało.\\nPewnego razu Ania bardzo się pokłóciła ze swoją przyjaciółką z klasy. Nie miała komu się wyżalić, bo jej jedyna przyjaciółka właśnie stała się jej głównym wrogiem. Nie dawało to jej spokoju, bo przecież chciałaby zawsze jej relacja z Iloną była wyjątkowa. Okazało się jednak, że tylko jej lalka zna wszystkie jej rozterki i zawsze jej pomaga. \\nLalka zaproponowała jej najbardziej praktyczne i najrozsądniejsze rozwiązanie – rozmowę. Rozmowa zawsze sprawi, że wszystkie nieporozumienia zostaną zakończone. Ania oraz jej przyjaciółka wiedziały, że ten spór musi zostać zakończony. Jednak ktoś musiał pierwszy wyciągnąć rękę na zgodę, a niekoniecznie chciała to zrobić przyjaciółka Ilona. Co więc zrobiła Ania? Po prostu powiedziała to, co czuje i że jej życie bez przyjaciółki jest niezupełne. Dziewczyny wszystko to sobie wyjaśniły. Od tej chwili ich przyjaźń stała się silniejsza i już nic nie będzie w stanie jej złamać.\\n\\n\\n\\n\\n\\n\\n\\n\\n\\n\\n\\n\\n\\n\\n\\n 4.4/5 - (32 votes)'"
      ]
     },
     "execution_count": 50,
     "metadata": {},
     "output_type": "execute_result"
    }
   ],
   "source": [
    "def extract_text_from_url(url):\n",
    "    response = requests.get(url)\n",
    "    soup = BeautifulSoup(response.content, 'html.parser')\n",
    "    content_div = soup.find('div', class_='entry-content')\n",
    "    return content_div.text\n",
    "\n",
    "extract_text_from_url('https://www.bajkokraj.pl/ania-i-jej-magiczna-lalka/')"
   ]
  },
  {
   "cell_type": "code",
   "execution_count": 54,
   "metadata": {},
   "outputs": [],
   "source": [
    "for i, url in enumerate(urls):\n",
    "    try:\n",
    "        extracted_text = extract_text_from_url(url)\n",
    "        lines = extracted_text.split('\\n')\n",
    "        lines = lines[:-1]\n",
    "        text = '\\n'.join(lines)\n",
    "        with open(f'../../data/raw_texts/bajkokraj/{i}.txt', 'wt') as f:\n",
    "            f.write(text)\n",
    "    except:\n",
    "        print(url)"
   ]
  },
  {
   "attachments": {},
   "cell_type": "markdown",
   "metadata": {},
   "source": [
    "# miastodzieci.pl"
   ]
  },
  {
   "cell_type": "code",
   "execution_count": 2,
   "metadata": {},
   "outputs": [],
   "source": [
    "def extract_urls(page):\n",
    "    response = requests.get(f'https://miastodzieci.pl/bajki/k/bajki-do-czytania/strona/{page}/')\n",
    "    soup = BeautifulSoup(response.content, 'html.parser')\n",
    "    sections = soup.find('div', id='content').find_all('section')\n",
    "    hrefs = [section.find('a')['href'] for section in sections]\n",
    "    return hrefs\n",
    "    \n",
    "urls = extract_urls(2)"
   ]
  },
  {
   "cell_type": "code",
   "execution_count": 3,
   "metadata": {},
   "outputs": [],
   "source": [
    "urls = []\n",
    "for page in range(1, 12):\n",
    "    page_urls = extract_urls(page)\n",
    "    urls.extend(page_urls)"
   ]
  },
  {
   "cell_type": "code",
   "execution_count": 12,
   "metadata": {},
   "outputs": [
    {
     "name": "stdout",
     "output_type": "stream",
     "text": [
      "<p>W ciepłą kwietniową niedzielę Pyzia wraz z bratem Tomkiem i sąsiadami – owieczką Linką i psem Bartkiem wybrali się na wycieczkę do Starego Gaju. Droga prowadziła przez głęboki jar, którego wysokie ściany opadały stromo ku ścieżce. Nad nią zwieszały swe korony dęby, brzozy i buki, a ziemię zdobiły wiosenne kwiaty.</p>\n"
     ]
    }
   ],
   "source": [
    "def extract_text_from_url(url):\n",
    "    response = requests.get(url)\n",
    "    soup = BeautifulSoup(response.content, 'html.parser')\n",
    "    content_div = soup.find('section')\n",
    "    end_idx = content_div.text.index('Dodaj swoje wydarzenia')\n",
    "    return content_div.text[:end_idx].strip()\n",
    "\n",
    "txt = extract_text_from_url('https://miastodzieci.pl/bajki/przygody-swinki-pyzi-w-starym-gaju/')"
   ]
  },
  {
   "cell_type": "code",
   "execution_count": 10,
   "metadata": {},
   "outputs": [],
   "source": [
    "for i, url in enumerate(urls):\n",
    "    try:\n",
    "        extracted_text = extract_text_from_url(url)\n",
    "        with open(f'../../data/raw_texts/miastodzieci/{i}.txt', 'wt') as f:\n",
    "            f.write(extracted_text)\n",
    "    except:\n",
    "        print(url)"
   ]
  },
  {
   "attachments": {},
   "cell_type": "markdown",
   "metadata": {},
   "source": [
    "## bajkownia.pl"
   ]
  },
  {
   "cell_type": "code",
   "execution_count": 2,
   "metadata": {},
   "outputs": [],
   "source": [
    "def extract_urls(page):\n",
    "    response = requests.get(f'https://www.bajkownia.org/czytaniebajek?start={page*10}')\n",
    "    soup = BeautifulSoup(response.content, 'html.parser')\n",
    "    ps = soup.find_all('p', class_='readmore')\n",
    "    hrefs = [p.find('a')['href'] for p in ps]\n",
    "    return hrefs"
   ]
  },
  {
   "cell_type": "code",
   "execution_count": 3,
   "metadata": {},
   "outputs": [
    {
     "name": "stderr",
     "output_type": "stream",
     "text": [
      "100%|██████████| 289/289 [03:29<00:00,  1.38it/s]\n"
     ]
    }
   ],
   "source": [
    "urls = []\n",
    "for page in tqdm(range(1, 290)):\n",
    "    page_urls = extract_urls(page)\n",
    "    urls.extend(page_urls)"
   ]
  },
  {
   "cell_type": "code",
   "execution_count": 4,
   "metadata": {},
   "outputs": [
    {
     "name": "stdout",
     "output_type": "stream",
     "text": [
      "Wierszyk dla dzieci - Jesień już blisko \n",
      "\n",
      "Wrześniową zadumą pachną ogrody\n",
      "rabatki się mienią calutkie w kwiatach\n",
      "wiatr tańczy walca pośród gałęzi\n",
      "kusząc dojrzałym owocem lata\n",
      "\n",
      "Ciepły ostatni promyczek słonka\n",
      "czerwone korale jarzębin pieści\n",
      "pierwszy liść suchy jak baletnica\n",
      "spadając na ziemię cicho szeleści\n",
      "\n",
      "Z lasu dochodzą przedziwne dźwięki\n",
      "to dzięcioł od rana w korę drzew stuka\n",
      "na miedzy babie lato zmęczone\n",
      "przed pierwszym chłodem noclegu szuka\n",
      "\n",
      "Dymy nad polem siwym welonem\n",
      "zbyt ociężałe snują się nisko\n",
      "krzyk ptaka na chwilę przerywa\n",
      "ciszę żeby oznajmić że jesień blisko\n",
      "\n",
      "Renia Sobik\n"
     ]
    }
   ],
   "source": [
    "def extract_text_from_url(url):\n",
    "    response = requests.get('https://www.bajkownia.org/'+url)\n",
    "    response.encoding='utf-8'\n",
    "    soup = BeautifulSoup(response.text, 'html.parser')\n",
    "    \n",
    "    for elem in soup.find_all([\"br\"]):\n",
    "        elem.replace_with(elem.text + \"\\n\")\n",
    "    \n",
    "    div = soup.find('div', itemprop='articleBody')\n",
    "    parts = [part.text for part in div.find_all('p')]\n",
    "    return '\\n\\n'.join(parts)\n",
    "\n",
    "txt = extract_text_from_url('/czytaniebajek/4859-jesien-juz-blisko')\n",
    "print(txt)"
   ]
  },
  {
   "cell_type": "code",
   "execution_count": 5,
   "metadata": {},
   "outputs": [
    {
     "name": "stderr",
     "output_type": "stream",
     "text": [
      "2866it [20:45,  2.30it/s]\n"
     ]
    }
   ],
   "source": [
    "for i, url in tqdm(enumerate(urls)):\n",
    "    try:\n",
    "        extracted_text = extract_text_from_url(url)\n",
    "        with open(f'../../data/raw_texts/bajkownia/{i}.txt', 'wt') as f:\n",
    "            f.write(extracted_text)\n",
    "    except:\n",
    "        print(url)"
   ]
  }
 ],
 "metadata": {
  "kernelspec": {
   "display_name": "Python 3",
   "language": "python",
   "name": "python3"
  },
  "language_info": {
   "codemirror_mode": {
    "name": "ipython",
    "version": 3
   },
   "file_extension": ".py",
   "mimetype": "text/x-python",
   "name": "python",
   "nbconvert_exporter": "python",
   "pygments_lexer": "ipython3",
   "version": "3.10.9"
  },
  "orig_nbformat": 4
 },
 "nbformat": 4,
 "nbformat_minor": 2
}
