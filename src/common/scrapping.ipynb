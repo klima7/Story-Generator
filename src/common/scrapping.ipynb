{
 "cells": [
  {
   "cell_type": "code",
   "execution_count": 1,
   "metadata": {},
   "outputs": [],
   "source": [
    "import requests\n",
    "from bs4 import BeautifulSoup\n",
    "from tqdm import tqdm"
   ]
  },
  {
   "attachments": {},
   "cell_type": "markdown",
   "metadata": {},
   "source": [
    "## basn.pl"
   ]
  },
  {
   "cell_type": "code",
   "execution_count": 1,
   "metadata": {},
   "outputs": [],
   "source": [
    "def extract_text_from_url(url):\n",
    "    response = requests.get(url)\n",
    "    soup = BeautifulSoup(response.content, 'html.parser')\n",
    "    content_div = soup.find('div', id='content-in')\n",
    "    return content_div.text"
   ]
  },
  {
   "cell_type": "code",
   "execution_count": 13,
   "metadata": {},
   "outputs": [],
   "source": [
    "names = ['korsarz', 'pinokio', 'calineczka', 'dziewczynka-z-zapalkami', 'krolowa-sniegu', 'na-jagody', 'niegrzeczne-myszy', 'janek-wedrowniczek', 'wesole-kotki', 'pimpus-sadelko', 'truskawka', 'trzy-male-swinki', 'z-krainy-basni', 'klara-tygrysek', 'zloty-arbuz', 'sierotka-marysia', 'brzydkie-kaczatko', 'aniol', 'czerwony-kapturek', 'cynowy-zolnierz', 'jas-fasola', 'krysztalowa-kula', 'mala-syrenka', 'kopciuszek', 'krawczyk', 'atlantyda', 'kundelki', 'ksiezniczka', 'ubogi-bogaty', 'wedrowny-grajek', 'ksiezycowy-prom', 'falszywe-lzy', 'przygoda-z-czartem', 'przygoda-z-literatura', 'przygoda-w-dzungli', 'tajemnicza-kraina', 'krolewna', 'gmor', 'pytania', 'sezamowa-gora', 'narzeczeni']"
   ]
  },
  {
   "cell_type": "code",
   "execution_count": 14,
   "metadata": {},
   "outputs": [],
   "source": [
    "for name in names:\n",
    "    try:\n",
    "        extracted_text = extract_text_from_url(f'https://basn.pl/bajki/{name}/')\n",
    "        with open(f'../../data/raw_texts/basnie/{name}.txt', 'wt') as f:\n",
    "            f.write(extracted_text)\n",
    "    except:\n",
    "        print(name)"
   ]
  },
  {
   "attachments": {},
   "cell_type": "markdown",
   "metadata": {},
   "source": [
    "## bajki-zasypianki.pl"
   ]
  },
  {
   "cell_type": "code",
   "execution_count": 40,
   "metadata": {},
   "outputs": [
    {
     "name": "stdout",
     "output_type": "stream",
     "text": [
      "['https://bajki-zasypianki.pl/jezyk-cyprian-liczy-gwiazdy/', 'https://bajki-zasypianki.pl/krotka-bajka/', 'https://bajki-zasypianki.pl/bajki/jezyk-cyprian/', 'https://bajki-zasypianki.pl/bajki/wycieczka-zoo/', 'https://bajki-zasypianki.pl/bajki/muzyka-lasu/', 'https://bajki-zasypianki.pl/bajki/wyprawa-na-ksiezyc/', 'https://bajki-zasypianki.pl/bajki/dobranocka/', 'https://bajki-zasypianki.pl/glosy-nocy/', 'https://bajki-zasypianki.pl/bajki/bajka-pod-choinke/', 'https://bajki-zasypianki.pl/bajki/bajka-o-kotku/', 'https://bajki-zasypianki.pl/usypianki-dla-dzieci/', 'https://bajki-zasypianki.pl/bajki-o-kotkach/', 'https://bajki-zasypianki.pl/bajka-o-kotku', 'https://bajki-zasypianki.pl/majowka', 'https://bajki-zasypianki.pl/bajki/bajka-o-sloncu/', 'https://bajki-zasypianki.pl/choinka', 'https://bajki-zasypianki.pl/bajki/zaczarowana-noc/', 'https://bajki-zasypianki.pl/bal-zabawek/', 'https://bajki-zasypianki.pl/bajki-disneya', 'https://bajki-zasypianki.pl/bajki/latawiec-wiatr/', 'https://bajki-zasypianki.pl/bajka-o-plecaku/', 'https://bajki-zasypianki.pl/dzien-babci-dziadka', 'https://bajki-zasypianki.pl/dzien-matki/', 'https://bajki-zasypianki.pl/tuchow-pszczoly/', 'https://bajki-zasypianki.pl/bajka-o-smoku', 'https://bajki-zasypianki.pl/tajemnica-poddasza/', 'https://bajki-zasypianki.pl/bajki/bajka-o-skrzatach/', 'https://bajki-zasypianki.pl/wierszyk-dla-dzieci/', 'https://bajki-zasypianki.pl/wyprawa-dromadera/', 'https://bajki-zasypianki.pl/bajki/pogoda-dzieci', 'https://bajki-zasypianki.pl/bajki/telefon/', 'https://bajki-zasypianki.pl/bajka-o-skrzacie/', 'https://bajki-zasypianki.pl/bajka-o-misiach/', 'https://bajki-zasypianki.pl/bajki-o-traktorach/', 'https://bajki-zasypianki.pl/bajki/bajka-o-traktorze/', 'https://bajki-zasypianki.pl/bajka-o-misiu-chrapciu/', 'https://bajki-zasypianki.pl/bajka-o-muchach/', 'https://bajki-zasypianki.pl/bajki/bajka-o-ekologii/', 'https://bajki-zasypianki.pl/bajka-o-drodze/', 'https://bajki-zasypianki.pl/zyrafa-klementynka/', 'https://bajki-zasypianki.pl/bajka-o-elfach/', 'https://bajki-zasypianki.pl/bajki/dobra-wrozka/', 'https://bajki-zasypianki.pl/bajka-o-fokach/', 'https://bajki-zasypianki.pl/bajka-o-kurze/', 'https://bajki-zasypianki.pl/bajka-wloska-o-miesiacach/', 'https://bajki-zasypianki.pl/bajka-o-smokach/', 'https://bajki-zasypianki.pl/bajka-o-nocy/', 'https://bajki-zasypianki.pl/bajka-afrykanska/', 'https://bajki-zasypianki.pl/bajka-indianska/', 'https://bajki-zasypianki.pl/bajka-portugalska-zaczarowany-palac/', 'https://bajki-zasypianki.pl/bociany-holandia/', 'https://bajki-zasypianki.pl/pierwsze-truskawki/', '../bajki/wojtus-i-szczurek/', '../niesmialosc-u-dzieci', '../bajki-o-dinozaurach', 'https://bajki-zasypianki.pl/bajka-o-dzielnym-jasiu', '../bajki/karolek-ma-braciszka/', '../dziecko-boi-sie-ciemnosci', 'https://bajki-zasypianki.pl/bajka-o-dentyscie', 'https://bajki-zasypianki.pl/klotnie-rodzenstwa/', 'https://bajki-zasypianki.pl/dziecko-w-przedszkolu/', 'https://bajki-zasypianki.pl/zly-dotyk/', 'https://bajki-zasypianki.pl/bajka-autyzm/', 'https://bajki-zasypianki.pl/bajki/mutyzm-bajka-cicha-myszka/', 'https://bajki-zasypianki.pl/bajka-o-sloniu', 'https://bajki-zasypianki.pl/bajka-wlosy/', 'https://bajki-zasypianki.pl/bajka-o-pilce-noznej', 'https://bajki-zasypianki.pl/bajki/bajki-lisy/', 'https://bajki-zasypianki.pl/bajka-madagaskar/', '../rozwod-dzieci', '../bajki/zle-sny/', '../bajki/choroba-w-rodzinie/', 'https://bajki-zasypianki.pl/bajka-o-niepelnosprawnosci']\n"
     ]
    }
   ],
   "source": [
    "def extract_urls():\n",
    "    response = requests.get(f'https://bajki-zasypianki.pl/czytanki-dla-dzieci/')\n",
    "    soup = BeautifulSoup(response.content, 'html.parser')\n",
    "    content_div = soup.find('div', class_='td-page-content')\n",
    "    lis = content_div.find_all('li')\n",
    "    hrefs = [li.find('a')['href'] for li in lis]\n",
    "    return hrefs\n",
    "    \n",
    "urls = extract_urls()\n",
    "print(urls)"
   ]
  },
  {
   "cell_type": "code",
   "execution_count": 41,
   "metadata": {},
   "outputs": [],
   "source": [
    "def extract_text_from_url(url):\n",
    "    response = requests.get(url)\n",
    "    soup = BeautifulSoup(response.content, 'html.parser')\n",
    "    content_div = soup.find('div', class_='td-post-content')\n",
    "    \n",
    "    return content_div.text"
   ]
  },
  {
   "cell_type": "code",
   "execution_count": null,
   "metadata": {},
   "outputs": [],
   "source": [
    "for i, url in enumerate(urls):\n",
    "    name = url.split('/')[-1]\n",
    "    try:\n",
    "        extracted_text = extract_text_from_url(url)\n",
    "        lines = extracted_text.split('\\n')\n",
    "        lines = lines[1:-17]\n",
    "        text = '\\n'.join(lines)\n",
    "        with open(f'../../data/raw_texts/bajki-zasypianki/{i}.txt', 'wt') as f:\n",
    "            f.write(text)\n",
    "    except:\n",
    "        print(url)"
   ]
  },
  {
   "attachments": {},
   "cell_type": "markdown",
   "metadata": {},
   "source": [
    "# bajkokraj.pl"
   ]
  },
  {
   "cell_type": "code",
   "execution_count": 53,
   "metadata": {},
   "outputs": [],
   "source": [
    "def extract_urls():\n",
    "    response = requests.get(f'https://www.bajkokraj.pl/spis-bajek/')\n",
    "    soup = BeautifulSoup(response.content, 'html.parser')\n",
    "    content_div = soup.find('main', id='main')\n",
    "    lis = content_div.find_all('li')\n",
    "    hrefs = [li.find('a')['href'] for li in lis]\n",
    "    return hrefs\n",
    "    \n",
    "urls = extract_urls()[:-1]"
   ]
  },
  {
   "cell_type": "code",
   "execution_count": 50,
   "metadata": {},
   "outputs": [
    {
     "data": {
      "text/plain": [
       "'\\nDawno, dawno temu, była sobie pewna mała dziewczynka o imieniu Ania. Tak, jak każda dziewczynka, Ania bardzo lubiła lalki. Każdego dnia bawiła się nimi w dom, dziecko i mamę lub inne przygody. Wszystkie lalki, które mają dzieci są do siebie czymś podobne, jednak jedna laleczka Ani była wyjątkowa. Umiała mówić, ruszać się i choć była małym, plastikowym przedmiotem, to miała prawdziwe serduszko. \\n\\nAnia miała wiele koleżanek w szkole, ale dla niej najważniejszą przyjaciółką była jej lalka. To jej zwierzała się z pierwszych miłosnych rozterek, to jej mówiła o swoich kłopotach a ona zawsze dobrze doradzała.\\nAnia i jej magiczna lalka\\nWszystkie koleżanki zazdrościły Ani lalkę, ponieważ była ona wyjątkowa spośród wszystkich innych. Nie dosyć, że mówi, ale ma także serce. Ona jest zdecydowanie kimś więcej niż wszystkie inne przyjaciółki. Ania wie, że jej lalka wspiera ją i będzie jeszcze przez kolejne lata. I tak rzeczywiście się stało.\\nPewnego razu Ania bardzo się pokłóciła ze swoją przyjaciółką z klasy. Nie miała komu się wyżalić, bo jej jedyna przyjaciółka właśnie stała się jej głównym wrogiem. Nie dawało to jej spokoju, bo przecież chciałaby zawsze jej relacja z Iloną była wyjątkowa. Okazało się jednak, że tylko jej lalka zna wszystkie jej rozterki i zawsze jej pomaga. \\nLalka zaproponowała jej najbardziej praktyczne i najrozsądniejsze rozwiązanie – rozmowę. Rozmowa zawsze sprawi, że wszystkie nieporozumienia zostaną zakończone. Ania oraz jej przyjaciółka wiedziały, że ten spór musi zostać zakończony. Jednak ktoś musiał pierwszy wyciągnąć rękę na zgodę, a niekoniecznie chciała to zrobić przyjaciółka Ilona. Co więc zrobiła Ania? Po prostu powiedziała to, co czuje i że jej życie bez przyjaciółki jest niezupełne. Dziewczyny wszystko to sobie wyjaśniły. Od tej chwili ich przyjaźń stała się silniejsza i już nic nie będzie w stanie jej złamać.\\n\\n\\n\\n\\n\\n\\n\\n\\n\\n\\n\\n\\n\\n\\n\\n 4.4/5 - (32 votes)'"
      ]
     },
     "execution_count": 50,
     "metadata": {},
     "output_type": "execute_result"
    }
   ],
   "source": [
    "def extract_text_from_url(url):\n",
    "    response = requests.get(url)\n",
    "    soup = BeautifulSoup(response.content, 'html.parser')\n",
    "    content_div = soup.find('div', class_='entry-content')\n",
    "    return content_div.text\n",
    "\n",
    "extract_text_from_url('https://www.bajkokraj.pl/ania-i-jej-magiczna-lalka/')"
   ]
  },
  {
   "cell_type": "code",
   "execution_count": 54,
   "metadata": {},
   "outputs": [],
   "source": [
    "for i, url in enumerate(urls):\n",
    "    try:\n",
    "        extracted_text = extract_text_from_url(url)\n",
    "        lines = extracted_text.split('\\n')\n",
    "        lines = lines[:-1]\n",
    "        text = '\\n'.join(lines)\n",
    "        with open(f'../../data/raw_texts/bajkokraj/{i}.txt', 'wt') as f:\n",
    "            f.write(text)\n",
    "    except:\n",
    "        print(url)"
   ]
  },
  {
   "attachments": {},
   "cell_type": "markdown",
   "metadata": {},
   "source": [
    "# miastodzieci.pl"
   ]
  },
  {
   "cell_type": "code",
   "execution_count": 6,
   "metadata": {},
   "outputs": [],
   "source": [
    "def extract_urls(page):\n",
    "    response = requests.get(f'https://miastodzieci.pl/bajki/k/bajki-do-czytania/strona/{page}/')\n",
    "    soup = BeautifulSoup(response.content, 'html.parser')\n",
    "    sections = soup.find('div', id='content').find_all('section')\n",
    "    hrefs = [section.find('a')['href'] for section in sections]\n",
    "    return hrefs\n",
    "    \n",
    "urls = extract_urls(2)"
   ]
  },
  {
   "cell_type": "code",
   "execution_count": 7,
   "metadata": {},
   "outputs": [],
   "source": [
    "urls = []\n",
    "for page in range(1, 12):\n",
    "    page_urls = extract_urls(page)\n",
    "    urls.extend(page_urls)"
   ]
  },
  {
   "cell_type": "code",
   "execution_count": 5,
   "metadata": {},
   "outputs": [
    {
     "name": "stdout",
     "output_type": "stream",
     "text": [
      "W ciepłą kwietniową niedzielę Pyzia wraz z bratem Tomkiem i sąsiadami – owieczką Linką i psem Bartkiem wybrali się na wycieczkę do Starego Gaju. Droga prowadziła przez głęboki jar, którego wysokie ściany opadały stromo ku ścieżce. Nad nią zwieszały swe korony dęby, brzozy i buki, a ziemię zdobiły wiosenne kwiaty.\n",
      "Droga pobiegła lekko w dół, a ściany po bokach obniżyły się. Widać już było wyjście z wąwozu i zalaną słońcem polanę. W pewnym momencie usłyszeli jakiś dźwięk. Przystanęli. Bartek zaczął węszyć.\n",
      "– Hau, hau, tam ktoś jest – wskazał w bok. – Rozejrzę się.\n",
      "Pobiegł po niskim tu zboczu i zniknął między drzewami. W chwilę potem dobiegło stamtąd poszczekiwanie:\n",
      "– Chodźcie szybko.\n",
      "Wszyscy troje wspięli się po zboczu i weszli między drzewa. Pod niewysoką brzozą zobaczyli Bartka. Obok na ziemi leżało jakieś zwierzątko. Jego noga tkwiła w żelaznej obręczy.\n",
      "– Och! – zawołała Pyzia. Podbiegła do niego. – Nie ruszaj się. Zaraz cię uwolnimy.\n",
      "Nie było to łatwe. Ale w końcu wspólnym wysiłkiem odgięli stalowe szczęki. Zajączek, ranny i trzęsący się jeszcze ze strachu, opowiadał im, jak oddalił się od rodziców, chcąc pomyszkować po zagajniku, nagle poczuł straszliwy ból. Początkowo szamotał się rozpaczliwie, potem już tylko leżał i płakał.\n",
      "– To robota kłusownika – rzekł Tomek. – Musimy powiedzieć o tym w osiedlu.\n",
      "Pyzia tuliła zajączka, gładząc go ryjkiem po główce.\n",
      "– Nie martw się, malutki. Już jesteś bezpieczny. Zaraz pomożemy ci znaleźć rodziców.\n",
      "Pierwszy z wąwozu wybiegł Bartek. Pyzia widziała, jak krótko szczeknął, a potem zatrzymał się, patrząc przed siebie. Za chwilę wraz z Tomkiem już była obok niego. Wkrótce dołączyła do nich Linka z zajączkiem na grzbiecie, przytulonym do wełnistych splotów. Na wprost na środku polany rósł ogromny dąb, przybrany świeżą zielenią. U jego stóp stała gromada leśnych zwierząt.\n",
      "– Chodźmy do nich – powiedział Tomek. – Trzeba odprowadzić małego.\n",
      "W jednej chwili jak na komendę wszystkie oczy i pyski zwróciły się w kierunku przybyszów.\n",
      "Od gromady spod drzewa oderwały się dwie sylwetki, sadząc wielkimi susami. Niedługo potem młody zajączek tulił się do rodziców, a zwierzęta obwąchiwały z ciekawością Pyzię i jej kompanów. Sędziwy dąb patrzył na nich z wysokości swoich konarów.\n",
      "  \n",
      " \n",
      "Autor bajki: Habibi. Więcej bajek autora w zbiorze Opowieści z różnych światów.\n"
     ]
    }
   ],
   "source": [
    "def extract_text_from_url(url):\n",
    "    response = requests.get(url)\n",
    "    soup = BeautifulSoup(response.content, 'html.parser')\n",
    "    for p in soup.find_all('p'):\n",
    "        p.append('\\n')\n",
    "    content_div = soup.find('section')\n",
    "    end_idx = content_div.text.index('Dodaj swoje wydarzenia')\n",
    "    return content_div.text[:end_idx].strip()\n",
    "\n",
    "txt = extract_text_from_url('https://miastodzieci.pl/bajki/przygody-swinki-pyzi-w-starym-gaju/')\n",
    "print(txt)"
   ]
  },
  {
   "cell_type": "code",
   "execution_count": 9,
   "metadata": {},
   "outputs": [],
   "source": [
    "for i, url in enumerate(urls):\n",
    "    try:\n",
    "        extracted_text = extract_text_from_url(url)\n",
    "        with open(f'../../data/texts/internet/miastodzieci_new/{i}.txt', 'wt') as f:\n",
    "            f.write(extracted_text)\n",
    "    except:\n",
    "        print(url)"
   ]
  },
  {
   "attachments": {},
   "cell_type": "markdown",
   "metadata": {},
   "source": [
    "## bajkownia.pl"
   ]
  },
  {
   "cell_type": "code",
   "execution_count": 2,
   "metadata": {},
   "outputs": [],
   "source": [
    "def extract_urls(page):\n",
    "    response = requests.get(f'https://www.bajkownia.org/czytaniebajek?start={page*10}')\n",
    "    soup = BeautifulSoup(response.content, 'html.parser')\n",
    "    ps = soup.find_all('p', class_='readmore')\n",
    "    hrefs = [p.find('a')['href'] for p in ps]\n",
    "    return hrefs"
   ]
  },
  {
   "cell_type": "code",
   "execution_count": 3,
   "metadata": {},
   "outputs": [
    {
     "name": "stderr",
     "output_type": "stream",
     "text": [
      "100%|██████████| 289/289 [03:29<00:00,  1.38it/s]\n"
     ]
    }
   ],
   "source": [
    "urls = []\n",
    "for page in tqdm(range(1, 290)):\n",
    "    page_urls = extract_urls(page)\n",
    "    urls.extend(page_urls)"
   ]
  },
  {
   "cell_type": "code",
   "execution_count": 4,
   "metadata": {},
   "outputs": [
    {
     "name": "stdout",
     "output_type": "stream",
     "text": [
      "Wierszyk dla dzieci - Jesień już blisko \n",
      "\n",
      "Wrześniową zadumą pachną ogrody\n",
      "rabatki się mienią calutkie w kwiatach\n",
      "wiatr tańczy walca pośród gałęzi\n",
      "kusząc dojrzałym owocem lata\n",
      "\n",
      "Ciepły ostatni promyczek słonka\n",
      "czerwone korale jarzębin pieści\n",
      "pierwszy liść suchy jak baletnica\n",
      "spadając na ziemię cicho szeleści\n",
      "\n",
      "Z lasu dochodzą przedziwne dźwięki\n",
      "to dzięcioł od rana w korę drzew stuka\n",
      "na miedzy babie lato zmęczone\n",
      "przed pierwszym chłodem noclegu szuka\n",
      "\n",
      "Dymy nad polem siwym welonem\n",
      "zbyt ociężałe snują się nisko\n",
      "krzyk ptaka na chwilę przerywa\n",
      "ciszę żeby oznajmić że jesień blisko\n",
      "\n",
      "Renia Sobik\n"
     ]
    }
   ],
   "source": [
    "def extract_text_from_url(url):\n",
    "    response = requests.get('https://www.bajkownia.org/'+url)\n",
    "    response.encoding='utf-8'\n",
    "    soup = BeautifulSoup(response.text, 'html.parser')\n",
    "    \n",
    "    for elem in soup.find_all([\"br\"]):\n",
    "        elem.replace_with(elem.text + \"\\n\")\n",
    "    \n",
    "    div = soup.find('div', itemprop='articleBody')\n",
    "    parts = [part.text for part in div.find_all('p')]\n",
    "    return '\\n\\n'.join(parts)\n",
    "\n",
    "txt = extract_text_from_url('/czytaniebajek/4859-jesien-juz-blisko')\n",
    "print(txt)"
   ]
  },
  {
   "cell_type": "code",
   "execution_count": 5,
   "metadata": {},
   "outputs": [
    {
     "name": "stderr",
     "output_type": "stream",
     "text": [
      "2866it [20:45,  2.30it/s]\n"
     ]
    }
   ],
   "source": [
    "for i, url in tqdm(enumerate(urls)):\n",
    "    try:\n",
    "        extracted_text = extract_text_from_url(url)\n",
    "        with open(f'../../data/raw_texts/bajkownia/{i}.txt', 'wt') as f:\n",
    "            f.write(extracted_text)\n",
    "    except:\n",
    "        print(url)"
   ]
  },
  {
   "attachments": {},
   "cell_type": "markdown",
   "metadata": {},
   "source": [
    "## Czytac.com"
   ]
  },
  {
   "cell_type": "code",
   "execution_count": 26,
   "metadata": {},
   "outputs": [],
   "source": [
    "GENRE = 'opowiadanie'"
   ]
  },
  {
   "cell_type": "code",
   "execution_count": 31,
   "metadata": {},
   "outputs": [
    {
     "name": "stdout",
     "output_type": "stream",
     "text": [
      "2\n"
     ]
    }
   ],
   "source": [
    "def get_pages_count(genre):\n",
    "    response = requests.get(\n",
    "        f'https://czytac.com/java-book/genre/{genre}/page/1',\n",
    "        headers={\"User-Agent\": \"Mozilla/5.0 (Windows NT 10.0; Win64; x64)\"}\n",
    "    )\n",
    "    response.encoding='utf-8'\n",
    "    soup = BeautifulSoup(response.text, 'html.parser')\n",
    "    paginator = soup.find('div', class_='paginator')\n",
    "    a = paginator.find_all('a')[-1]\n",
    "    return int(a.text)\n",
    "\n",
    "print(get_pages_count(GENRE))"
   ]
  },
  {
   "cell_type": "code",
   "execution_count": 52,
   "metadata": {},
   "outputs": [
    {
     "data": {
      "text/plain": [
       "['/java-book/book/_ach_umieram_umieram_',\n",
       " '/java-book/book/_ach_umieram_umieram_',\n",
       " '/java-book/book/_noc_zielona_byla_']"
      ]
     },
     "execution_count": 52,
     "metadata": {},
     "output_type": "execute_result"
    }
   ],
   "source": [
    "def extract_urls(genre, page):\n",
    "    response = requests.get(\n",
    "        f'https://czytac.com/java-book/genre/{genre}/page/{page}',\n",
    "        headers={\"User-Agent\": \"Mozilla/5.0 (Windows NT 10.0; Win64; x64)\"}\n",
    "    )\n",
    "    soup = BeautifulSoup(response.content, 'html.parser')\n",
    "    hrefs = [a['href'] for a in soup.find_all('a', class_='booklink')]\n",
    "    return hrefs\n",
    "\n",
    "extract_urls('poemat', 1)[:3]"
   ]
  },
  {
   "cell_type": "code",
   "execution_count": 36,
   "metadata": {},
   "outputs": [
    {
     "data": {
      "text/plain": [
       "'/files/82_agady_talmudyczne.txt'"
      ]
     },
     "execution_count": 36,
     "metadata": {},
     "output_type": "execute_result"
    }
   ],
   "source": [
    "def extract_real_url(fake_url):\n",
    "    response = requests.get(\n",
    "        f'https://czytac.com{fake_url}',\n",
    "        headers={\"User-Agent\": \"Mozilla/5.0 (Windows NT 10.0; Win64; x64)\"}\n",
    "    )\n",
    "    soup = BeautifulSoup(response.content, 'html.parser')\n",
    "    return soup.find('a', id='txt')['href']\n",
    "    \n",
    "extract_real_url('/java-book/book/agady_talmudyczne')"
   ]
  },
  {
   "cell_type": "code",
   "execution_count": 48,
   "metadata": {},
   "outputs": [
    {
     "name": "stdout",
     "output_type": "stream",
     "text": [
      "https://czytac.com/files/82_agady_talmudyczne.txt\n",
      "b''\n"
     ]
    }
   ],
   "source": [
    "def fetch_text(url):\n",
    "    print(f'https://czytac.com{url}')\n",
    "    response = requests.get(\n",
    "        f'https://czytac.com{url}',\n",
    "        headers={\"User-Agent\": \"Mozilla/5.0 (Windows NT 10.0; Win64; x64)\"}\n",
    "    )\n",
    "    response.encoding='utf-8'\n",
    "    print(response.content)\n",
    "    \n",
    "fetch_text('/files/82_agady_talmudyczne.txt')"
   ]
  },
  {
   "cell_type": "code",
   "execution_count": 59,
   "metadata": {},
   "outputs": [
    {
     "data": {
      "text/plain": [
       "['https://czytac.com/java-book/book/diokles',\n",
       " 'https://czytac.com/java-book/book/chlop_i_zmija',\n",
       " 'https://czytac.com/java-book/book/czlowiek_i_kamien',\n",
       " 'https://czytac.com/java-book/book/orzel_i_sroka',\n",
       " 'https://czytac.com/java-book/book/bajka',\n",
       " 'https://czytac.com/java-book/book/badz_blogoslawiona',\n",
       " 'https://czytac.com/java-book/book/o_jasiu_dreczycielu',\n",
       " 'https://czytac.com/java-book/book/koza_kozka_i_wilk',\n",
       " 'https://czytac.com/java-book/book/co_sie_raz_stalo_w_sydonie']"
      ]
     },
     "execution_count": 59,
     "metadata": {},
     "output_type": "execute_result"
    }
   ],
   "source": [
    "def extract_all_urls(genre):\n",
    "    urls = []\n",
    "    pages_count = get_pages_count(genre)\n",
    "    \n",
    "    for page in range(1, pages_count+1):\n",
    "        page_urls = extract_urls(genre, page)\n",
    "        urls.extend(page_urls)\n",
    "        \n",
    "    urls = list(set(urls))\n",
    "    # urls = [extract_real_url(url) for url in urls]\n",
    "    urls = [f'https://czytac.com{url}' for url in urls]\n",
    "    return urls\n",
    "    \n",
    "extract_all_urls('bajka')"
   ]
  },
  {
   "attachments": {},
   "cell_type": "markdown",
   "metadata": {},
   "source": [
    "## Grimmstories "
   ]
  },
  {
   "cell_type": "code",
   "execution_count": 6,
   "metadata": {},
   "outputs": [],
   "source": [
    "def extract_urls():\n",
    "    response = requests.get(f'https://www.grimmstories.com/pl/grimm_basnie/list')\n",
    "    soup = BeautifulSoup(response.content, 'html.parser')\n",
    "    ul = soup.find('ul', class_='bluelink')\n",
    "    hrefs = [ul.find('a')['href'] for ul in ul.find_all('li')]\n",
    "    return hrefs"
   ]
  },
  {
   "cell_type": "code",
   "execution_count": 8,
   "metadata": {},
   "outputs": [],
   "source": [
    "urls = extract_urls()"
   ]
  },
  {
   "cell_type": "code",
   "execution_count": 9,
   "metadata": {},
   "outputs": [
    {
     "data": {
      "text/plain": [
       "'https://www.grimmstories.com/pl/grimm_basnie/zabi_krol'"
      ]
     },
     "execution_count": 9,
     "metadata": {},
     "output_type": "execute_result"
    }
   ],
   "source": [
    "urls[0]"
   ]
  },
  {
   "cell_type": "code",
   "execution_count": 13,
   "metadata": {},
   "outputs": [
    {
     "name": "stdout",
     "output_type": "stream",
     "text": [
      "Za dawnych czasów, kiedy to jeszcze życzenia mogły się spełnić przez czary, żył król, który miał bardzo ładne córki, ale najmłodsza była tak ładna, że nawet słońce, które tyle piękności widziało, dziwiło się, ilekroć ona zwróciła doń buzię. Nieopodal królewskiego zamku leżał wielki, ciemny las, a w lesie, pod starą lipą, była studnia. Gdy wielki upał dokuczał ludziom, królewska córa wychodziła do lasu i siadała nad brzegiem chłodnej studni, a gdy jej było nudno, to brała złotą kulę, podrzucała ją w górę i chwytała znowu. Była to jej najmilsza rozrywka.\n",
      "\n",
      "Otóż zdarzyło się pewnego razu, że złota kula nie spadła do rąk królewny po podrzucaniu w górę, lecz uderzyła obok niej w ziemię, skąd dostała się do studni. Królewna goniła ją oczyma, ale kula zniknęła, bo studnia była głęboka, że dna nie było widać. Królewna zaczęła płakać i płakała coraz głośniej, nie mogąc się uspokoić. I gdy tak płacze, ktoś woła do niej: \"Co ci się stało, królewno? Płaczesz tak, że kamień by się wzruszył.\" Obejrzała się dokoła, chcąc dociec, skąd by ten głos mógł pochodzić, aż w końcu spostrzegła żabę, która wystawiała z wody swoją paskudną, szeroką mordkę. \"Ach to ty, stara wodochlapko?\" rzekła: \"Płaczę, bo mi złota kula wpadła do studni.\" - \"Uspokój się,\" odparła żaba. \"Mam na to radę; ale co mi dasz, jeżeli ci zwrócę twoją zabawkę?\" - \"A co chcesz, kochana żabo?\" spytała królewna. \"Mam suknie, perły, kamienie, a wreszcie moją złotą koronę dać ci mogę.\" Żaba zaś na to: \"Ani sukien, ani kamieni, ani twojej korony nie żądam; ale jeśli mi przyrzekniesz, że będziesz dla mnie dobrą, jeżeli zrobisz mnie towarzyszką swoich zabaw, przyjaciółką, jeżeli będę mogła razem z tobą siadywać przy twoim stoliczku, jadać z twego złotego talerzyka i pijać z twego kubeczka, i sypiać w twoim łóżeczku, to zejdę do wody i przyniosę ci twoją kulę.\" - \"I owszem!\" odparła królewna, \"Przyrzekam ci wszystko, co sobie życzysz, byleś tylko odniosła mi kulę.\" Mówiąc to, myślała jednak: Co tam baje taka głupia żaba! Wszak ona siedzi w wodzie przy takich jak sama, kwacze tylko i nie może być towarzyszką człowieka.\n",
      "\n",
      "Żaba, po uzyskaniu zgody królewny, zanurzyła się w wodzie i po niejakiej chwili ukazała się z powrotem, niosąc w pyszczku kulę, którą rzuciła na trawę. Królewna była wielce uradowana, odzyskawszy zgubę, podniosła kulę i pobiegła do zamku. \"Czekaj no, czekaj,\" zawołała żaba, \"ja nie mogę latać tak prędko, jak ty! Weź mnie ze sobą.\" Ale nic nie pomogło, że zaczęła na cały głos kwakać, królewna nie zwracając na to uwagi, śpieszyła do domu i wkrótce potem żaba wyszła jej z pamięci.\n",
      "\n",
      "Nazajutrz, gdy królewna z królem i ze świtą zasiadła do stołu i jadła ze złotego talerzyka, coś klap - klap, klap - klap, ślizga się po marmurowych schodach zamku. Była to żaba, która, dowlókłszy się do drzwi, zastukała i woła: \"Najmłodsza królewno, otwórz mi!\" Królewna pobiegła, ażeby się przekonać, kto to być może, a gdy drzwi otworzyła, spostrzegła żabę. Trzasnęła tedy drzwiami, zasiadła znowu do stołu i trwoga ją zdjęła. Król zauważył, że serce mocno jej bije, i pyta: \"Moje dziecko, czego ty się tak boisz? Czy jaki olbrzym stoi pod drzwiami i chce cię porwać?\" - \"Ach nie!\" odparła: \"To wcale nie olbrzym, lecz obrzydliwa żaba.\" - \"Czegóż ta żaba od ciebie chce?\" - \"Ach, kochany ojcze, gdy wczoraj siedziałam w lesie przy studni, moja złota kula wpadła mi do wody, a że zaczęłam płakać, więc żaba wyciągnęła mi ją, domagając się nagrody. Wtedy przyrzekłam jej, że stanie się moją towarzyszką, bo nigdy nie przypuszczałam, że żaba może z wody ją wydobyć. Otóż ona teraz stoi za drzwiami i chce wejść do mnie.\" Żaba stuknęła we drzwi po raz drugi i rzecze:\n",
      "\"Najmłodsza królewno,\n",
      "Otwórz drzwi,\n",
      "Nie wiesz, coś wczoraj\n",
      "Przyrzekła mi\n",
      "Przy studni w lesie, piękna królewno?\n",
      "Ejże, królewno, pamiętasz pewno -\n",
      "Więc otwórz mi!\"\n",
      "A na to rzecze król: \"Coś przyrzekła, tego dotrzymać musisz, idź i otwórz żabie.\" Poszła i otworzyła drzwi, a żaba klap - klap, tuż przy jej nogach, dotknęła się do jej krzesła, stanęła tam i woła: \"Podnieś mnie do siebie!\" Królewna wahała się, ale król kazał jej to zrobić. Żaba wskoczyła z krzesła na stół i rzekła: \"Teraz przynieś mi swój złoty talerzyk; będziemy razem jedli!\" Królewna zrobiła to wprawdzie, ale wszyscy widzieli, że zrobiła niechętnie. Żaba jadła z apetytem, ale królewna nic prawie przełknąć nie mogła. Po chwili żaba rzekła: \"No, najadłam się, odnieśże mnie do swojej komnatki i pościel mi swoje łóżeczko jedwabne, to się prześpimy.\" Na to królewna zaczęła płakać, bała się zimnej żaby, której dotykała się ze wstrętem, a cóż dopiero, żeby miała z nią spać w swoim pięknym, czystym łóżeczku. Ale król rozgniewał się i rzekł: \"Kto ci dopomógł w biedzie, tego nie można teraz lekceważyć sobie!\" Wzięła więc żabę w dwa palce, zaniosła ją do siebie i umieściła w kąciku. Gdy się jednak położyła do łóżka, żaba klap - klap, klap - klap, przywlokła się do niej i rzekła: \"Jestem zmęczona i chcę spać tak dobrze, jak ty. Podnieśże mnie do łóżeczka, bo jeżeli nie podniesiesz, to się poskarżę twemu ojcu.\" Królewna rozzłościła się okrutnie, podniosła żabę i z całych sił uderzyła nią o ścianę. \"Teraz się uspokoisz, wstrętna żabo!\"\n",
      "\n",
      "Ale odpadłszy ze ściany, żaba zamieniła się nagle w pięknego królewicza o cudnych oczach, pełnych słodyczy. I od tej chwili, za wolą ojca, został jej towarzyszem i małżonkiem. I opowiedział jej, że został zaklęty przez czarownicę i nikt nie mógł go uwolnić od czarów, jak tylko ona, i że jutro odjadą do jego pałacu. Potem zasnęli i nazajutrz, gdy słońce ich obudziło, zajechała kareta zaprzężona w osiem białych koni, które miały białe, strusie pióra na głowach i złoty zaprzęg. Z tyłu karety stał służący młodego króla, wierny Henryk. Wierny Henryk tak się zmartwił, gdy jego pan został zmieniony w żabę, że kazał sobie zakuć serce w trzy sztaby żelazne, ażeby mu nie pękło z bólu i rozpaczy. Ale kareta miała odwieźć młodego króla do jego państwa. Wierny Henryk stanął znowu z tyłu i cieszył się ogromnie.\n",
      "\n",
      "A gdy ujechali kawałek drogi, usłyszał syn królewski, że coś poza nim trzasło, jak gdyby się coś złamało. Odwrócił się tedy i zawołał:\n",
      "\"Henryku, powóz łamie się!\"\n",
      "\"Panie, to nie powóz, nie!\n",
      "To żelazna obręcz, królu!\n",
      "W którą skułem serce z bólu,\n",
      "Gdy przez ową wstrętną babę,\n",
      "W studni żyłeś zmienion w żabę!\"\n",
      "Jeszcze raz i jeszcze raz trzaskało po drodze, a syn królewski ciągle myślał, że to powóz pęka, a to były żelazne obręcze. Gdy dojechali do pałacu, zatrąbiono z radości i wydawano huczne okrzyki. Po weselu, które trwało cały tydzień, małżonkowie żyli długo i szczęśliwie, a wierny Henryk został powiernikiem młodego króla i przyjacielem do zgonu.\n"
     ]
    }
   ],
   "source": [
    "def extract_text_from_url(url):\n",
    "    response = requests.get(url)\n",
    "    response.encoding='utf-8'\n",
    "    soup = BeautifulSoup(response.text, 'html.parser')\n",
    "    div = soup.find('div', class_='text')\n",
    "    return div.text\n",
    "\n",
    "txt = extract_text_from_url('https://www.grimmstories.com/pl/grimm_basnie/zabi_krol')\n",
    "print(txt)"
   ]
  },
  {
   "cell_type": "code",
   "execution_count": null,
   "metadata": {},
   "outputs": [],
   "source": [
    "for i, url in tqdm(enumerate(urls)):\n",
    "    try:\n",
    "        extracted_text = extract_text_from_url(url)\n",
    "        with open(f'../../data/training/internet/grimmstories/{i}.txt', 'wt') as f:\n",
    "            f.write(extracted_text)\n",
    "    except:\n",
    "        print(url)"
   ]
  },
  {
   "attachments": {},
   "cell_type": "markdown",
   "metadata": {},
   "source": [
    "## Wolne lektury"
   ]
  },
  {
   "cell_type": "code",
   "execution_count": 2,
   "metadata": {},
   "outputs": [],
   "source": [
    "def extract_names(category):\n",
    "    response = requests.get(f'https://wolnelektury.pl/katalog/lektury/{category}/')\n",
    "    soup = BeautifulSoup(response.content, 'html.parser')\n",
    "    figures = soup.find_all('figure', class_='book-container')\n",
    "    hrefs = [fig.find('a')['href'].split('/')[-2] for fig in figures]\n",
    "    return hrefs"
   ]
  },
  {
   "cell_type": "code",
   "execution_count": 12,
   "metadata": {},
   "outputs": [
    {
     "data": {
      "text/plain": [
       "['alcott-male-kobietki', 'amicis-serce', 'aniol']"
      ]
     },
     "execution_count": 12,
     "metadata": {},
     "output_type": "execute_result"
    }
   ],
   "source": [
    "names = extract_names('literatura-dla-dzieci-i-mlodziezy')\n",
    "names[:3]"
   ]
  },
  {
   "cell_type": "code",
   "execution_count": 6,
   "metadata": {},
   "outputs": [
    {
     "name": "stdout",
     "output_type": "stream",
     "text": [
      "Hans Christian Ander\n"
     ]
    }
   ],
   "source": [
    "def extract_text(name):\n",
    "    response = requests.get(f'https://wolnelektury.pl/media/book/txt/{name}.txt')\n",
    "    if response.status_code != 200:\n",
    "        raise Exception\n",
    "    response.encoding='utf-8'\n",
    "    return response.text\n",
    "\n",
    "txt = extract_text('brzydkie-kaczatko')\n",
    "print(txt[:20])"
   ]
  },
  {
   "cell_type": "code",
   "execution_count": 8,
   "metadata": {},
   "outputs": [
    {
     "name": "stdout",
     "output_type": "stream",
     "text": [
      "['don-kichot-z-la-manchy', 'zlote-sidla', 'robinson-crusoe', 'hrabia-monte-christo', 'aleksander-dumas-trzej-muszkieterowie', 'kapitan-czart', 'kipling-druga-ksiega-dzungli', 'kapitanowie-zuchy', 'kim', 'ksiega-dzungli', 'kipling-puk-z-pukowej-gorki', 'kipling-stalky-i-spolka', 'salgari-czarny-korsarz', 'w-pustyni-i-w-puszczy', 'stevenson-porwany-za-mlodu', 'wyspa-skarbow', 'podroze-guliwera', 'przygody-tomka-sawyera', '20-000-mil-podmorskiej-zeglugi', 'miasto-plywajace', 'verne-promien-zielony', 'przygody-trzech-rosjan-i-trzech-anglikow-w-poludniowej-afryce', 'verne-tajemnicza-wyspa', 'w-80-dni-dookola-swiata']\n"
     ]
    }
   ],
   "source": [
    "print(names[:24])"
   ]
  },
  {
   "cell_type": "code",
   "execution_count": 13,
   "metadata": {},
   "outputs": [
    {
     "name": "stderr",
     "output_type": "stream",
     "text": [
      "6it [00:00,  9.46it/s]"
     ]
    },
    {
     "name": "stdout",
     "output_type": "stream",
     "text": [
      "andersen-basnie\n"
     ]
    },
    {
     "name": "stderr",
     "output_type": "stream",
     "text": [
      "34it [00:03, 10.70it/s]"
     ]
    },
    {
     "name": "stdout",
     "output_type": "stream",
     "text": [
      "beresewicz-czy-pisarzom-burczy-w-brzuchu-tom\n"
     ]
    },
    {
     "name": "stderr",
     "output_type": "stream",
     "text": [
      "49it [00:04, 11.28it/s]"
     ]
    },
    {
     "name": "stdout",
     "output_type": "stream",
     "text": [
      "fraczek-zolw-wiercipieta-i-inne-zwierzeta\n",
      "fredro-bajki\n"
     ]
    },
    {
     "name": "stderr",
     "output_type": "stream",
     "text": [
      "106it [00:09, 10.16it/s]"
     ]
    },
    {
     "name": "stdout",
     "output_type": "stream",
     "text": [
      "konopnicka-bajka-o-swierszczu-cykl\n"
     ]
    },
    {
     "name": "stderr",
     "output_type": "stream",
     "text": [
      "116it [00:10, 15.25it/s]"
     ]
    },
    {
     "name": "stdout",
     "output_type": "stream",
     "text": [
      "konopnicka-damnata\n"
     ]
    },
    {
     "name": "stderr",
     "output_type": "stream",
     "text": [
      "218it [00:16, 14.28it/s]"
     ]
    },
    {
     "name": "stdout",
     "output_type": "stream",
     "text": [
      "konopnicka-poezje-czesc-ii-dla-dzieci-do-lat-10\n",
      "konopnicka-poezje-czesc-i-dla-dzieci-do-lat-7\n"
     ]
    },
    {
     "name": "stderr",
     "output_type": "stream",
     "text": [
      "298it [00:22, 11.07it/s]"
     ]
    },
    {
     "name": "stdout",
     "output_type": "stream",
     "text": [
      "kornhauser-tyle-rzeczy-niezwyklych\n",
      "bajki-i-przypowiesci\n",
      "bajki-nowe\n",
      "stara-basn\n"
     ]
    },
    {
     "name": "stderr",
     "output_type": "stream",
     "text": [
      "302it [00:23,  9.42it/s]"
     ]
    },
    {
     "name": "stdout",
     "output_type": "stream",
     "text": [
      "klechdy-polskie\n",
      "klechdy-sezamowe\n"
     ]
    },
    {
     "name": "stderr",
     "output_type": "stream",
     "text": [
      "318it [00:25, 12.27it/s]"
     ]
    },
    {
     "name": "stdout",
     "output_type": "stream",
     "text": [
      "legendy-warszawskie\n"
     ]
    },
    {
     "name": "stderr",
     "output_type": "stream",
     "text": [
      "324it [00:25, 12.63it/s]"
     ]
    },
    {
     "name": "stdout",
     "output_type": "stream",
     "text": [
      "papuzinska-spiace-wierszyki\n"
     ]
    },
    {
     "name": "stderr",
     "output_type": "stream",
     "text": [
      "364it [00:30,  7.99it/s]"
     ]
    },
    {
     "name": "stdout",
     "output_type": "stream",
     "text": [
      "wilde-szczesliwy-ksiaze-zbior\n"
     ]
    },
    {
     "name": "stderr",
     "output_type": "stream",
     "text": [
      "367it [00:30, 12.02it/s]\n"
     ]
    },
    {
     "ename": "",
     "evalue": "",
     "output_type": "error",
     "traceback": [
      "\u001b[1;31mThe Kernel crashed while executing code in the the current cell or a previous cell. Please review the code in the cell(s) to identify a possible cause of the failure. Click <a href='https://aka.ms/vscodeJupyterKernelCrash'>here</a> for more info. View Jupyter <a href='command:jupyter.viewOutput'>log</a> for further details."
     ]
    }
   ],
   "source": [
    "for i, name in tqdm(enumerate(names)):\n",
    "    try:\n",
    "        extracted_text = extract_text(name)\n",
    "        with open(f'../../data/texts/wolne_lektury/gatunki/dzieci/{name}.txt', 'wt') as f:\n",
    "            f.write(extracted_text)\n",
    "    except:\n",
    "        print(name)"
   ]
  }
 ],
 "metadata": {
  "kernelspec": {
   "display_name": "Python 3",
   "language": "python",
   "name": "python3"
  },
  "language_info": {
   "codemirror_mode": {
    "name": "ipython",
    "version": 3
   },
   "file_extension": ".py",
   "mimetype": "text/x-python",
   "name": "python",
   "nbconvert_exporter": "python",
   "pygments_lexer": "ipython3",
   "version": "3.10.9"
  },
  "orig_nbformat": 4
 },
 "nbformat": 4,
 "nbformat_minor": 2
}
