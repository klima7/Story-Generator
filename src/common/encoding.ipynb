{
 "cells": [
  {
   "cell_type": "code",
   "execution_count": 4,
   "metadata": {},
   "outputs": [],
   "source": [
    "import glob\n",
    "from tqdm import tqdm\n",
    "from pathlib import Path"
   ]
  },
  {
   "cell_type": "code",
   "execution_count": 21,
   "metadata": {},
   "outputs": [],
   "source": [
    "def convert_encoding(input_dir, output_dir, input_encoding, output_encoding='utf-8'):\n",
    "    Path(output_dir).mkdir(parents=True, exist_ok=True)\n",
    "    paths = list(glob.glob(f'{input_dir}/**/*.txt', recursive=True))\n",
    "    errors_counter = 0\n",
    "    \n",
    "    for path in tqdm(paths, total=len(paths)):\n",
    "        try:\n",
    "            with open(path, encoding=input_encoding) as f:\n",
    "                content = f.read()\n",
    "        except Exception:\n",
    "            errors_counter += 1\n",
    "        \n",
    "        Path(path).parent.mkdir(parents=True, exist_ok=True)\n",
    "        rel_path = path[len(input_dir):]\n",
    "        out_path = Path(output_dir) / rel_path\n",
    "        Path(out_path).parent.mkdir(parents=True, exist_ok=True)\n",
    "        \n",
    "        with open(out_path, 'wt', encoding=output_encoding) as f:\n",
    "            f.write(content)\n",
    "            \n",
    "    print(f'Errors count: {errors_counter} / {len(paths)}')"
   ]
  },
  {
   "cell_type": "code",
   "execution_count": 23,
   "metadata": {},
   "outputs": [
    {
     "name": "stderr",
     "output_type": "stream",
     "text": [
      "100%|██████████| 16774/16774 [00:16<00:00, 1011.91it/s]"
     ]
    },
    {
     "name": "stdout",
     "output_type": "stream",
     "text": [
      "Errors count: 224 / 16774\n"
     ]
    },
    {
     "name": "stderr",
     "output_type": "stream",
     "text": [
      "\n"
     ]
    }
   ],
   "source": [
    "convert_encoding(\n",
    "    input_dir='../../data/raw_texts/ebooks17k/',\n",
    "    output_dir='../../data/raw_texts/ebooks17k_utf8/',\n",
    "    input_encoding='cp1250'\n",
    ")"
   ]
  }
 ],
 "metadata": {
  "kernelspec": {
   "display_name": "Python 3",
   "language": "python",
   "name": "python3"
  },
  "language_info": {
   "codemirror_mode": {
    "name": "ipython",
    "version": 3
   },
   "file_extension": ".py",
   "mimetype": "text/x-python",
   "name": "python",
   "nbconvert_exporter": "python",
   "pygments_lexer": "ipython3",
   "version": "3.10.9"
  },
  "orig_nbformat": 4
 },
 "nbformat": 4,
 "nbformat_minor": 2
}
