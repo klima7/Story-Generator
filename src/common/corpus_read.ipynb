{
 "cells": [
  {
   "cell_type": "code",
   "execution_count": 1,
   "metadata": {},
   "outputs": [],
   "source": [
    "import glob\n",
    "import multiprocessing\n",
    "import itertools\n",
    "import string\n",
    "import pickle\n",
    "from pathlib import Path\n",
    "\n",
    "from tqdm import tqdm"
   ]
  },
  {
   "cell_type": "code",
   "execution_count": 2,
   "metadata": {},
   "outputs": [],
   "source": [
    "def read_file(path, encoding):\n",
    "    try:\n",
    "        with open(path, encoding=encoding) as f:\n",
    "            lines = f.readlines()\n",
    "            lines = [line.strip().lower() for line in lines]\n",
    "            return ' '.join(lines)\n",
    "    except:\n",
    "        return ''"
   ]
  },
  {
   "cell_type": "code",
   "execution_count": 3,
   "metadata": {},
   "outputs": [
    {
     "data": {
      "text/plain": [
       "'0_*(8–4\\\\\"2${^[]:+1<@5%9&;-~)/6=>`\\'7}|3#'"
      ]
     },
     "execution_count": 3,
     "metadata": {},
     "output_type": "execute_result"
    }
   ],
   "source": [
    "illegal_characters = (set(string.punctuation) | set(string.digits) | set('–')) - set('.!?,')\n",
    "illegal_characters = ''.join(illegal_characters)\n",
    "illegal_characters"
   ]
  },
  {
   "cell_type": "code",
   "execution_count": 4,
   "metadata": {},
   "outputs": [],
   "source": [
    "def read_corpus_file(path, encoding='cp1250', skip_sentences=0):\n",
    "    text = read_file(path, encoding)\n",
    "    text = text.translate(str.maketrans('', '', illegal_characters))\n",
    "    text = text.replace('.', ' . ').replace('!', ' ! ').replace('?', ' ? ').replace(',', ' , ')\n",
    "    words = text.split()\n",
    "    \n",
    "    sentences = []\n",
    "    sentence = []\n",
    "    while words:\n",
    "        word = words.pop(0)\n",
    "        sentence.append(word)\n",
    "        if word in ['?', '.', '!']:\n",
    "            if len(sentence) >= 4:\n",
    "                sentences.append(sentence)\n",
    "            sentence = []\n",
    "            \n",
    "    return sentences[skip_sentences:]"
   ]
  },
  {
   "cell_type": "code",
   "execution_count": 5,
   "metadata": {},
   "outputs": [],
   "source": [
    "def read_corpus(path, encoding='utf-8', skip_sentences=0):\n",
    "    corpus = []\n",
    "    \n",
    "    paths = list(glob.glob(f'../../data/{path}/**/*.txt', recursive=True))\n",
    "    tasks = list(zip(\n",
    "        paths,\n",
    "        itertools.repeat(encoding),\n",
    "        itertools.repeat(skip_sentences),\n",
    "    ))\n",
    "    \n",
    "    with multiprocessing.Pool(multiprocessing.cpu_count()) as pool:\n",
    "        corpus = pool.starmap(read_corpus_file, tqdm(tasks, total=len(tasks)))\n",
    "        \n",
    "    return corpus"
   ]
  },
  {
   "cell_type": "code",
   "execution_count": 7,
   "metadata": {},
   "outputs": [
    {
     "name": "stderr",
     "output_type": "stream",
     "text": [
      "100%|██████████| 4882/4882 [02:44<00:00, 29.67it/s]\n"
     ]
    }
   ],
   "source": [
    "corpus = read_corpus('ebooks17k/1', encoding='cp1250', skip_sentences=3)\n",
    "\n",
    "with open('../../data/ebooks17k_1.pickle', 'wb') as f:\n",
    "    pickle.dump(corpus, f)"
   ]
  },
  {
   "cell_type": "code",
   "execution_count": 6,
   "metadata": {},
   "outputs": [
    {
     "name": "stderr",
     "output_type": "stream",
     "text": [
      "100%|██████████| 4983/4983 [02:32<00:00, 32.57it/s]\n"
     ]
    }
   ],
   "source": [
    "corpus = read_corpus('ebooks17k/2', encoding='cp1250', skip_sentences=3)\n",
    "\n",
    "with open('../../data/ebooks17k_2.pickle', 'wb') as f:\n",
    "    pickle.dump(corpus, f)"
   ]
  },
  {
   "cell_type": "code",
   "execution_count": 6,
   "metadata": {},
   "outputs": [
    {
     "name": "stderr",
     "output_type": "stream",
     "text": [
      "100%|██████████| 4912/4912 [02:30<00:00, 32.68it/s]\n"
     ]
    }
   ],
   "source": [
    "corpus = read_corpus('ebooks17k/3', encoding='cp1250', skip_sentences=3)\n",
    "\n",
    "with open('../../data/ebooks17k_3.pickle', 'wb') as f:\n",
    "    pickle.dump(corpus, f)"
   ]
  },
  {
   "cell_type": "code",
   "execution_count": 8,
   "metadata": {},
   "outputs": [
    {
     "name": "stderr",
     "output_type": "stream",
     "text": [
      "100%|██████████| 1997/1997 [00:17<00:00, 116.10it/s]\n"
     ]
    }
   ],
   "source": [
    "corpus = read_corpus('ebooks17k/4', encoding='cp1250', skip_sentences=3)\n",
    "\n",
    "with open('../../data/ebooks17k_4.pickle', 'wb') as f:\n",
    "    pickle.dump(corpus, f)"
   ]
  },
  {
   "cell_type": "code",
   "execution_count": 31,
   "metadata": {},
   "outputs": [
    {
     "name": "stderr",
     "output_type": "stream",
     "text": [
      "100%|██████████| 43/43 [00:00<00:00, 65227.87it/s]\n"
     ]
    }
   ],
   "source": [
    "corpus = read_corpus('fairy_tales', encoding='utf-8', skip_sentences=3)\n",
    "\n",
    "with open('../../data/fairy_tales.pickle', 'wb') as f:\n",
    "    pickle.dump(corpus, f)"
   ]
  },
  {
   "attachments": {},
   "cell_type": "markdown",
   "metadata": {},
   "source": [
    "## Removing punctuation"
   ]
  },
  {
   "cell_type": "code",
   "execution_count": 2,
   "metadata": {},
   "outputs": [],
   "source": [
    "def remove_punctuation(read_path, save_path):\n",
    "    punctuation = list('.!?,')\n",
    "    \n",
    "    with open(read_path, 'rb') as f:\n",
    "        corpus = pickle.load(f)\n",
    "    \n",
    "    for text in tqdm(corpus):\n",
    "        for sentence_no in range(len(text)):\n",
    "            text[sentence_no] = [word for word in text[sentence_no] if word not in punctuation]\n",
    "            \n",
    "    with open(save_path, 'wb') as f:\n",
    "        corpus = pickle.dump(corpus, f)"
   ]
  },
  {
   "cell_type": "code",
   "execution_count": 3,
   "metadata": {},
   "outputs": [],
   "source": [
    "read_base = Path('../../data/binary_texts/punctuation')\n",
    "write_base = Path('../../data/binary_texts/no_punctuation')\n",
    "filenames = ['ebooks17k_1.pickle', 'ebooks17k_2.pickle', 'ebooks17k_3.pickle', 'ebooks17k_4.pickle', 'fairy_tales.pickle']"
   ]
  },
  {
   "cell_type": "code",
   "execution_count": 4,
   "metadata": {},
   "outputs": [
    {
     "name": "stderr",
     "output_type": "stream",
     "text": [
      "100%|██████████| 4882/4882 [00:16<00:00, 298.99it/s]\n",
      "100%|██████████| 4983/4983 [00:19<00:00, 258.41it/s]\n",
      "100%|██████████| 4912/4912 [00:14<00:00, 331.40it/s]\n",
      "100%|██████████| 1997/1997 [00:06<00:00, 304.78it/s]\n",
      "100%|██████████| 43/43 [00:00<00:00, 1693.24it/s]\n"
     ]
    }
   ],
   "source": [
    "for filename in filenames:\n",
    "    read_path = read_base / filename\n",
    "    write_path = write_base / filename\n",
    "    remove_punctuation(read_path, write_path)"
   ]
  },
  {
   "attachments": {},
   "cell_type": "markdown",
   "metadata": {},
   "source": [
    "## Saving in LineSentence format"
   ]
  },
  {
   "cell_type": "code",
   "execution_count": 4,
   "metadata": {},
   "outputs": [],
   "source": [
    "def append_to_file(corpus_path, file_path):\n",
    "    with open(corpus_path, 'rb') as f:\n",
    "        corpus = pickle.load(f)\n",
    "        \n",
    "    with open(file_path, 'a') as f:\n",
    "        for text in tqdm(corpus):\n",
    "            for sentence in text:\n",
    "                sentence = ' '.join(sentence) + '\\n'\n",
    "                f.write(sentence)"
   ]
  },
  {
   "cell_type": "code",
   "execution_count": 5,
   "metadata": {},
   "outputs": [],
   "source": [
    "read_base = Path('../../data/binary_texts/no_punctuation')\n",
    "filenames = ['ebooks17k_1.pickle', 'ebooks17k_2.pickle', 'ebooks17k_3.pickle', 'ebooks17k_4.pickle', 'fairy_tales.pickle']\n",
    "text_file = '../../data/line_sentence/no_punctuation.txt'"
   ]
  },
  {
   "cell_type": "code",
   "execution_count": 6,
   "metadata": {},
   "outputs": [],
   "source": [
    "for filename in filenames:\n",
    "    read_path = read_base / filename\n",
    "    append_to_file(read_path, text_file)"
   ]
  }
 ],
 "metadata": {
  "kernelspec": {
   "display_name": "Python 3",
   "language": "python",
   "name": "python3"
  },
  "language_info": {
   "codemirror_mode": {
    "name": "ipython",
    "version": 3
   },
   "file_extension": ".py",
   "mimetype": "text/x-python",
   "name": "python",
   "nbconvert_exporter": "python",
   "pygments_lexer": "ipython3",
   "version": "3.10.9"
  },
  "orig_nbformat": 4
 },
 "nbformat": 4,
 "nbformat_minor": 2
}
