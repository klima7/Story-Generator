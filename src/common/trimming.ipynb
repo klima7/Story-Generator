{
 "cells": [
  {
   "cell_type": "code",
   "execution_count": 3,
   "metadata": {},
   "outputs": [],
   "source": [
    "import glob\n",
    "from tqdm import tqdm\n",
    "from pathlib import Path"
   ]
  },
  {
   "cell_type": "code",
   "execution_count": 6,
   "metadata": {},
   "outputs": [],
   "source": [
    "def trim(input_dir, output_dir, start_drop=0, end_drop=0):  \n",
    "    Path(output_dir).mkdir(parents=True, exist_ok=True)\n",
    "    paths = list(glob.glob(f'{input_dir}/**/*.txt', recursive=True))\n",
    "    errors_counter = 0\n",
    "    \n",
    "    for path in tqdm(paths, total=len(paths)):\n",
    "        try:\n",
    "            with open(path, encoding='utf-8') as f:\n",
    "                lines = f.readlines()\n",
    "        except Exception:\n",
    "            errors_counter += 1\n",
    "        \n",
    "        Path(path).parent.mkdir(parents=True, exist_ok=True)\n",
    "        rel_path = path[len(input_dir):]\n",
    "        out_path = Path(output_dir) / rel_path[1:]\n",
    "        Path(out_path).parent.mkdir(parents=True, exist_ok=True)\n",
    "\n",
    "        with open(out_path, 'wt', encoding='utf-8') as f:\n",
    "            if end_drop == 0:\n",
    "                lines = lines[start_drop:]\n",
    "            else:\n",
    "                lines = lines[start_drop:-end_drop]\n",
    "            f.writelines(lines)\n",
    "            \n",
    "    print(f'Errors count: {errors_counter} / {len(paths)}')"
   ]
  },
  {
   "cell_type": "code",
   "execution_count": 7,
   "metadata": {},
   "outputs": [
    {
     "name": "stderr",
     "output_type": "stream",
     "text": [
      "100%|██████████| 218/218 [00:00<00:00, 1141.66it/s]"
     ]
    },
    {
     "name": "stdout",
     "output_type": "stream",
     "text": [
      "Errors count: 0 / 218\n"
     ]
    },
    {
     "name": "stderr",
     "output_type": "stream",
     "text": [
      "\n"
     ]
    },
    {
     "ename": "",
     "evalue": "",
     "output_type": "error",
     "traceback": [
      "\u001b[1;31mThe Kernel crashed while executing code in the the current cell or a previous cell. Please review the code in the cell(s) to identify a possible cause of the failure. Click <a href='https://aka.ms/vscodeJupyterKernelCrash'>here</a> for more info. View Jupyter <a href='command:jupyter.viewOutput'>log</a> for further details."
     ]
    }
   ],
   "source": [
    "trim(\n",
    "    input_dir='../../data/texts/wolne_lektury/gatunki',\n",
    "    output_dir='../../data/texts/wolne_lektury/gatunki_cleaned',\n",
    "    start_drop=6,\n",
    "    end_drop=22\n",
    ")"
   ]
  }
 ],
 "metadata": {
  "kernelspec": {
   "display_name": "Python 3",
   "language": "python",
   "name": "python3"
  },
  "language_info": {
   "codemirror_mode": {
    "name": "ipython",
    "version": 3
   },
   "file_extension": ".py",
   "mimetype": "text/x-python",
   "name": "python",
   "nbconvert_exporter": "python",
   "pygments_lexer": "ipython3",
   "version": "3.10.9"
  },
  "orig_nbformat": 4
 },
 "nbformat": 4,
 "nbformat_minor": 2
}
