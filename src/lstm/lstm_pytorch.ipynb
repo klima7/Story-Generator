{
 "cells": [
  {
   "cell_type": "code",
   "execution_count": 1,
   "metadata": {},
   "outputs": [],
   "source": [
    "import random\n",
    "import re\n",
    "\n",
    "import numpy as np\n",
    "import torch\n",
    "from torch import nn\n",
    "from torch.optim import Adam\n",
    "from torch.utils.data import DataLoader\n",
    "from torch.utils.data.dataset import IterableDataset\n",
    "from pytorch_lightning import LightningModule, LightningDataModule, Trainer\n",
    "from lightning.pytorch.loggers import TensorBoardLogger\n",
    "from torchinfo import summary\n",
    "from gensim.models.word2vec import LineSentence, Word2Vec\n",
    "from tqdm import tqdm"
   ]
  },
  {
   "cell_type": "code",
   "execution_count": 2,
   "metadata": {},
   "outputs": [],
   "source": [
    "class TextTrainDataset(IterableDataset):\n",
    "    \n",
    "    def __init__(self, text_file_path, w2v, seq_length=10):\n",
    "        self.text_file_path = text_file_path\n",
    "        self.seq_length = seq_length\n",
    "        self.w2v = w2v\n",
    "        self.__len = self.__count_lines_in_file()\n",
    "        \n",
    "    def __len__(self):\n",
    "        return self.__len\n",
    "        \n",
    "    def __iter__(self):\n",
    "        for text in LineSentence(self.text_file_path):\n",
    "            start_idx = random.randint(-self.seq_length+1, len(text)-self.seq_length-1)\n",
    "            cropped_text = text[max(start_idx, 0) : start_idx+self.seq_length]\n",
    "            cropped_text = self.__padd(cropped_text)\n",
    "            target = text[start_idx+self.seq_length]\n",
    "            yield self.w2v.wv[cropped_text], self.w2v.wv.key_to_index[target]\n",
    "            \n",
    "    def __padd(self, text):\n",
    "        if len(text) < self.seq_length:\n",
    "            padding = ['<pad>']*(self.seq_length-len(text))\n",
    "            text = padding + text\n",
    "        return text\n",
    "            \n",
    "    def __count_lines_in_file(self):\n",
    "        with open(self.text_file_path) as f:\n",
    "            return sum(1 for _ in f)"
   ]
  },
  {
   "cell_type": "code",
   "execution_count": 3,
   "metadata": {},
   "outputs": [],
   "source": [
    "class TextValidationDataset(IterableDataset):\n",
    "    \n",
    "    def __init__(self, text_file_path):\n",
    "        self.text_file_path = text_file_path\n",
    "        \n",
    "    def __iter__(self):\n",
    "        for text in LineSentence(self.text_file_path):\n",
    "            yield ' '.join(text)"
   ]
  },
  {
   "cell_type": "code",
   "execution_count": 4,
   "metadata": {},
   "outputs": [],
   "source": [
    "class LstmTextGenerator(LightningModule):\n",
    "    \n",
    "    def __init__(self, text_file_path, val_file_path, word2vec_path, seq_length=10, \n",
    "                 batch_size=64, seed=42, lstm_layers=1, lstm_dropout=0, lstm_hidden_size=100):\n",
    "        super().__init__()\n",
    "        self.save_hyperparameters()\n",
    "        \n",
    "        self.w2v = Word2Vec.load(self.hparams.word2vec_path)\n",
    "        np.random.seed(seed)\n",
    "        self.w2v.wv['<pad>'] = np.random.rand(100)\n",
    "        \n",
    "        self.lstm = nn.LSTM(\n",
    "            input_size=100,\n",
    "            hidden_size=self.hparams.lstm_hidden_size,\n",
    "            batch_first=True,\n",
    "            num_layers=self.hparams.lstm_layers,\n",
    "            dropout=self.hparams.lstm_dropout\n",
    "        )\n",
    "        self.fc = nn.Linear(self.hparams.lstm_hidden_size, len(self.w2v.wv))\n",
    "        \n",
    "        self.loss = nn.CrossEntropyLoss()\n",
    "        \n",
    "    def generate(self, prompt, length=50):\n",
    "        generated = prompt\n",
    "        prompt = self.__preprocess_prompt(prompt)\n",
    "        \n",
    "        for _ in range(length):\n",
    "            embedded_prompt = self.w2v.wv[prompt]\n",
    "            embedded_prompt = torch.tensor(embedded_prompt, device=self.device)\n",
    "            prediction = self(torch.unsqueeze(embedded_prompt, dim=0))\n",
    "            word_index = prediction.argmax(axis=-1)\n",
    "            word = self.w2v.wv.index_to_key[word_index]\n",
    "            prompt = prompt[1:] + [word]\n",
    "            \n",
    "            if word not in list('.!?,'):\n",
    "                generated += ' '\n",
    "            generated += word\n",
    "        \n",
    "        return generated\n",
    "        \n",
    "    def forward(self, x):\n",
    "        out, _ = self.lstm(x)\n",
    "        out = self.fc(out[:, -1, :])\n",
    "        out = torch.softmax(out, dim=-1)\n",
    "        return out\n",
    "        \n",
    "    def training_step(self, batch, batch_no):\n",
    "        text, target = batch\n",
    "        predicted = self.forward(text)\n",
    "        loss = self.loss(predicted, target)\n",
    "        self.log('train_loss', loss)\n",
    "        return loss\n",
    "    \n",
    "    def validation_step(self, batch, batch_no):\n",
    "        prompt = batch[0]\n",
    "        tensorboard = self.logger.experiment\n",
    "        generated = self.generate(prompt, length=100)\n",
    "        tensorboard.add_text(f'val_generated_{batch_no}', generated, global_step=self.current_epoch)\n",
    "        \n",
    "    def configure_optimizers(self):\n",
    "        optimizer = Adam(self.parameters(), lr=0.001)\n",
    "        return optimizer\n",
    "    \n",
    "    def train_dataloader(self):\n",
    "        dataset = TextTrainDataset(\n",
    "            self.hparams.text_file_path,\n",
    "            self.w2v,\n",
    "            self.hparams.seq_length\n",
    "        )\n",
    "        \n",
    "        return DataLoader(\n",
    "            dataset=dataset,\n",
    "            batch_size=self.hparams.batch_size,\n",
    "        )\n",
    "        \n",
    "    def val_dataloader(self):\n",
    "        dataset = TextValidationDataset(\n",
    "            self.hparams.val_file_path,\n",
    "        )\n",
    "        \n",
    "        return DataLoader(\n",
    "            dataset=dataset,\n",
    "            batch_size=1\n",
    "        )\n",
    "        \n",
    "    def __preprocess_prompt(self, prompt):\n",
    "        prompt = prompt.lower().strip()\n",
    "        prompt = re.sub(r'[^a-ząćęłńóśźż.,!? ]', '', prompt)\n",
    "        prompt = prompt.replace('.', ' . ').replace('!', ' ! ').replace('?', ' ? ').replace(',', ' , ')\n",
    "        prompt = prompt.split()\n",
    "        prompt = [word for word in prompt if word in self.w2v.wv]\n",
    "        padding = ['<pad>']*(max(self.hparams.seq_length-len(prompt), 0))\n",
    "        prompt = padding + prompt\n",
    "        return prompt"
   ]
  },
  {
   "cell_type": "code",
   "execution_count": 5,
   "metadata": {},
   "outputs": [
    {
     "name": "stderr",
     "output_type": "stream",
     "text": [
      "GPU available: True (cuda), used: True\n",
      "TPU available: False, using: 0 TPU cores\n",
      "IPU available: False, using: 0 IPUs\n",
      "HPU available: False, using: 0 HPUs\n"
     ]
    }
   ],
   "source": [
    "logger = TensorBoardLogger(\n",
    "    save_dir='../..',\n",
    "    name='logs'\n",
    ")\n",
    "\n",
    "trainer = Trainer(\n",
    "    accelerator='cuda',\n",
    "    max_epochs=-1,\n",
    "    enable_progress_bar=True,\n",
    "    logger = logger,\n",
    ")"
   ]
  },
  {
   "cell_type": "code",
   "execution_count": 6,
   "metadata": {},
   "outputs": [],
   "source": [
    "generator = LstmTextGenerator(\n",
    "    text_file_path='../../data/line_sentence/texts_punctuation.txt',\n",
    "    val_file_path='../../data/line_sentence/texts_validation.txt',\n",
    "    word2vec_path='../../models/word2vec/punctuation/word2vec',\n",
    "    lstm_layers=2,\n",
    "    lstm_dropout=0.2,\n",
    "    batch_size=128\n",
    ")"
   ]
  },
  {
   "cell_type": "code",
   "execution_count": 7,
   "metadata": {},
   "outputs": [
    {
     "name": "stderr",
     "output_type": "stream",
     "text": [
      "/home/klima7/studies/piat/Story-Generator/conda/pytorch/lib/python3.10/site-packages/torchinfo/torchinfo.py:477: UserWarning: TypedStorage is deprecated. It will be removed in the future and UntypedStorage will be the only storage class. This should only matter to you if you are using storages directly.  To access UntypedStorage directly, use tensor.untyped_storage() instead of tensor.storage()\n",
      "  action_fn=lambda data: sys.getsizeof(data.storage()),\n",
      "/home/klima7/studies/piat/Story-Generator/conda/pytorch/lib/python3.10/site-packages/torch/storage.py:665: UserWarning: TypedStorage is deprecated. It will be removed in the future and UntypedStorage will be the only storage class. This should only matter to you if you are using storages directly.  To access UntypedStorage directly, use tensor.untyped_storage() instead of tensor.storage()\n",
      "  return super().__sizeof__() + self.nbytes()\n"
     ]
    },
    {
     "data": {
      "text/plain": [
       "============================================================================================================================================\n",
       "Layer (type:depth-idx)                   Input Shape               Output Shape              Param #                   Param %\n",
       "============================================================================================================================================\n",
       "LstmTextGenerator                        [64, 20, 100]             [64, 663962]              --                             --\n",
       "├─LSTM: 1-1                              [64, 20, 100]             [64, 20, 100]             161,600                     0.24%\n",
       "├─Linear: 1-2                            [64, 100]                 [64, 663962]              67,060,162                 99.76%\n",
       "============================================================================================================================================\n",
       "Total params: 67,221,762\n",
       "Trainable params: 67,221,762\n",
       "Non-trainable params: 0\n",
       "Total mult-adds (G): 4.50\n",
       "============================================================================================================================================\n",
       "Input size (MB): 0.51\n",
       "Forward/backward pass size (MB): 340.97\n",
       "Params size (MB): 268.89\n",
       "Estimated Total Size (MB): 610.37\n",
       "============================================================================================================================================"
      ]
     },
     "execution_count": 7,
     "metadata": {},
     "output_type": "execute_result"
    }
   ],
   "source": [
    "summary(\n",
    "    generator,\n",
    "    input_size=(64, 20, 100),\n",
    "    col_names=['input_size', 'output_size', 'num_params', 'params_percent']\n",
    ")"
   ]
  },
  {
   "cell_type": "code",
   "execution_count": 8,
   "metadata": {},
   "outputs": [
    {
     "name": "stderr",
     "output_type": "stream",
     "text": [
      "You are using a CUDA device ('NVIDIA GeForce RTX 3060') that has Tensor Cores. To properly utilize them, you should set `torch.set_float32_matmul_precision('medium' | 'high')` which will trade-off precision for performance. For more details, read https://pytorch.org/docs/stable/generated/torch.set_float32_matmul_precision.html#torch.set_float32_matmul_precision\n",
      "LOCAL_RANK: 0 - CUDA_VISIBLE_DEVICES: [0]\n",
      "\n",
      "  | Name | Type             | Params\n",
      "------------------------------------------\n",
      "0 | lstm | LSTM             | 161 K \n",
      "1 | fc   | Linear           | 67.1 M\n",
      "2 | loss | CrossEntropyLoss | 0     \n",
      "------------------------------------------\n",
      "67.2 M    Trainable params\n",
      "0         Non-trainable params\n",
      "67.2 M    Total params\n",
      "268.887   Total estimated model params size (MB)\n"
     ]
    },
    {
     "name": "stdout",
     "output_type": "stream",
     "text": [
      "Sanity Checking DataLoader 0:   0%|          | 0/2 [00:00<?, ?it/s]"
     ]
    },
    {
     "name": "stderr",
     "output_type": "stream",
     "text": [
      "/home/klima7/studies/piat/Story-Generator/conda/pytorch/lib/python3.10/site-packages/pytorch_lightning/trainer/connectors/data_connector.py:430: PossibleUserWarning: The dataloader, val_dataloader, does not have many workers which may be a bottleneck. Consider increasing the value of the `num_workers` argument` (try 24 which is the number of cpus on this machine) in the `DataLoader` init to improve performance.\n",
      "  rank_zero_warn(\n"
     ]
    },
    {
     "name": "stdout",
     "output_type": "stream",
     "text": [
      "Epoch 5:  68%|██████▊   | 45/66 [00:04<00:02,  9.01it/s, v_num=2]          "
     ]
    },
    {
     "name": "stderr",
     "output_type": "stream",
     "text": [
      "/home/klima7/studies/piat/Story-Generator/conda/pytorch/lib/python3.10/site-packages/pytorch_lightning/trainer/call.py:54: UserWarning: Detected KeyboardInterrupt, attempting graceful shutdown...\n",
      "  rank_zero_warn(\"Detected KeyboardInterrupt, attempting graceful shutdown...\")\n"
     ]
    }
   ],
   "source": [
    "trainer.fit(generator)"
   ]
  },
  {
   "cell_type": "code",
   "execution_count": null,
   "metadata": {},
   "outputs": [
    {
     "name": "stdout",
     "output_type": "stream",
     "text": [
      "['dawno', ',', 'dawno', 'temu', ',', 'za', 'siedmioma', 'górami', 'i', 'siedmioma', 'lasami']\n"
     ]
    },
    {
     "data": {
      "text/plain": [
       "'dawno, dawno temu, za siedmioma górami i siedmioma lasami, a w tym, że nie nie nie nie nie nie nie nie nie nie nie nie nie nie nie nie nie nie nie nie nie nie nie nie nie nie nie nie nie nie nie nie nie nie nie nie nie nie nie nie nie nie nie nie'"
      ]
     },
     "execution_count": 9,
     "metadata": {},
     "output_type": "execute_result"
    }
   ],
   "source": [
    "generator.generate('dawno, dawno temu, za siedmioma górami i siedmioma lasami')"
   ]
  }
 ],
 "metadata": {
  "kernelspec": {
   "display_name": "Python 3",
   "language": "python",
   "name": "python3"
  },
  "language_info": {
   "codemirror_mode": {
    "name": "ipython",
    "version": 3
   },
   "file_extension": ".py",
   "mimetype": "text/x-python",
   "name": "python",
   "nbconvert_exporter": "python",
   "pygments_lexer": "ipython3",
   "version": "3.10.9"
  },
  "orig_nbformat": 4
 },
 "nbformat": 4,
 "nbformat_minor": 2
}
