{
 "cells": [
  {
   "cell_type": "code",
   "execution_count": 24,
   "metadata": {},
   "outputs": [],
   "source": [
    "import re\n",
    "import pickle\n",
    "import glob\n",
    "import multiprocessing\n",
    "import itertools\n",
    "from collections import Counter, OrderedDict\n",
    "\n",
    "import torch\n",
    "from torchtext.vocab import vocab\n",
    "import more_itertools as mit\n",
    "from tqdm import tqdm"
   ]
  },
  {
   "attachments": {},
   "cell_type": "markdown",
   "metadata": {},
   "source": [
    "## Functions"
   ]
  },
  {
   "cell_type": "code",
   "execution_count": 2,
   "metadata": {},
   "outputs": [],
   "source": [
    "def tokenize(text):\n",
    "    text = text.lower()\n",
    "    text = re.sub(r'[^a-ząćęłńóśźż.,!?\\- ]', ' ', text)\n",
    "    text = re.sub(r'([,-])', ' \\\\1 ', text)\n",
    "    text = re.sub(r'([.!?])', ' \\\\1\\n', text)\n",
    "    sentences = text.split('\\n')\n",
    "    sentences = [[word for word in sentence.split(' ') if word] for sentence in sentences]\n",
    "    return sentences"
   ]
  },
  {
   "cell_type": "code",
   "execution_count": 3,
   "metadata": {},
   "outputs": [],
   "source": [
    "def count_tokens_in_files(paths):\n",
    "    counter = Counter()\n",
    "    for path in paths:\n",
    "        with open(path) as f:\n",
    "            content = f.read()\n",
    "        \n",
    "        sentences = tokenize(content)\n",
    "        for sentence in sentences:\n",
    "            counter.update(sentence)\n",
    "    return counter\n",
    "\n",
    "def count_tokens_in_directories(paths):\n",
    "    nested_paths = [list(glob.glob(f'{path}/**/*.txt', recursive=True)) for path in paths]\n",
    "    \n",
    "    paths = list(itertools.chain(*nested_paths))    \n",
    "    groups_count = multiprocessing.cpu_count()\n",
    "    paths_groups = list(mit.distribute(groups_count, paths))\n",
    "    tasks = list(zip(paths_groups))\n",
    "    \n",
    "    with multiprocessing.Pool(groups_count) as pool:\n",
    "        counters = pool.starmap(count_tokens_in_files, tasks)\n",
    "        \n",
    "    total_counter = sum(counters, start=Counter())\n",
    "    return total_counter"
   ]
  },
  {
   "cell_type": "code",
   "execution_count": 4,
   "metadata": {},
   "outputs": [],
   "source": [
    "def create_vocabulary(directories, max_tokens):\n",
    "    counter = count_tokens_in_directories(directories)\n",
    "    sorted_items = tuple(sorted(counter.items(), key=lambda x: (-x[1], x[0])))\n",
    "    cropped_dict = OrderedDict(sorted_items[:max_tokens])\n",
    "    vocabulary = vocab(cropped_dict)\n",
    "    vocabulary.set_default_index(-1)\n",
    "    return vocabulary"
   ]
  },
  {
   "cell_type": "code",
   "execution_count": 5,
   "metadata": {},
   "outputs": [],
   "source": [
    "def get_numbers_from_file(path, vocabulary):\n",
    "    with open(path) as f:\n",
    "        content = f.read()\n",
    "\n",
    "    sentences = tokenize(content)\n",
    "    \n",
    "    numbers = []\n",
    "    for sentence in sentences:\n",
    "        sentence_numbers = vocabulary.lookup_indices(sentence)\n",
    "        sentence_numbers = [num for num in sentence_numbers if num != -1]\n",
    "        if sentence_numbers:\n",
    "            numbers.append(sentence_numbers)\n",
    "\n",
    "    return numbers"
   ]
  },
  {
   "cell_type": "code",
   "execution_count": 6,
   "metadata": {},
   "outputs": [],
   "source": [
    "def get_numbers_from_directories(paths, vocabulary):\n",
    "    nested_paths = [list(glob.glob(f'{path}/**/*.txt', recursive=True)) for path in paths]\n",
    "    paths = list(itertools.chain(*nested_paths))    \n",
    "    tasks = list(zip(paths, itertools.repeat(vocabulary)))\n",
    "    \n",
    "    with multiprocessing.Pool(multiprocessing.cpu_count()) as pool:\n",
    "        return pool.starmap(get_numbers_from_file, tqdm(tasks, total=len(tasks)))"
   ]
  },
  {
   "attachments": {},
   "cell_type": "markdown",
   "metadata": {},
   "source": [
    "## Create vocabulary"
   ]
  },
  {
   "cell_type": "code",
   "execution_count": 7,
   "metadata": {},
   "outputs": [],
   "source": [
    "directories = [\n",
    "    '../../data/raw_texts/ebooks17k',\n",
    "]\n",
    "vocabulary = create_vocabulary(directories, max_tokens=150_000)"
   ]
  },
  {
   "cell_type": "code",
   "execution_count": 10,
   "metadata": {},
   "outputs": [],
   "source": [
    "torch.save(vocabulary, '../../models/vocabulary.pth')"
   ]
  },
  {
   "cell_type": "code",
   "execution_count": 12,
   "metadata": {},
   "outputs": [],
   "source": [
    "vocabulary = torch.load('../../models/vocabulary.pth')"
   ]
  },
  {
   "attachments": {},
   "cell_type": "markdown",
   "metadata": {},
   "source": [
    "## Convert texts to numbers"
   ]
  },
  {
   "cell_type": "code",
   "execution_count": 23,
   "metadata": {},
   "outputs": [
    {
     "name": "stderr",
     "output_type": "stream",
     "text": [
      "100%|██████████| 16774/16774 [01:38<00:00, 170.97it/s]\n"
     ]
    }
   ],
   "source": [
    "directories = [\n",
    "    '../../data/raw_texts/ebooks17k',\n",
    "]\n",
    "numbers = get_numbers_from_directories(directories, vocabulary)"
   ]
  },
  {
   "cell_type": "code",
   "execution_count": 25,
   "metadata": {},
   "outputs": [],
   "source": [
    "with open('../../data/binary_texts/ebooks17k.pickle', 'wb') as f:\n",
    "    pickle.dump(numbers, f)"
   ]
  },
  {
   "cell_type": "code",
   "execution_count": 33,
   "metadata": {},
   "outputs": [],
   "source": [
    "with open('../../data/binary_texts/ebooks17k.pickle', mode='rb') as f:\n",
    "    numbers = pickle.load(f)"
   ]
  }
 ],
 "metadata": {
  "kernelspec": {
   "display_name": "Python 3",
   "language": "python",
   "name": "python3"
  },
  "language_info": {
   "codemirror_mode": {
    "name": "ipython",
    "version": 3
   },
   "file_extension": ".py",
   "mimetype": "text/x-python",
   "name": "python",
   "nbconvert_exporter": "python",
   "pygments_lexer": "ipython3",
   "version": "3.10.9"
  },
  "orig_nbformat": 4
 },
 "nbformat": 4,
 "nbformat_minor": 2
}
