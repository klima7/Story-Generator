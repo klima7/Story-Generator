{
 "cells": [
  {
   "cell_type": "code",
   "execution_count": 3,
   "metadata": {},
   "outputs": [],
   "source": [
    "from gensim.models import Word2Vec"
   ]
  },
  {
   "cell_type": "code",
   "execution_count": 4,
   "metadata": {},
   "outputs": [],
   "source": [
    "word2vec = Word2Vec(\n",
    "    corpus_file='../../data/line_sentence/punctuation.txt',\n",
    "    vector_size=100,\n",
    "    max_vocab_size=100_000,\n",
    "    window=5,\n",
    "    workers=24,\n",
    "    epochs=int(5),\n",
    ")"
   ]
  },
  {
   "cell_type": "code",
   "execution_count": 5,
   "metadata": {},
   "outputs": [],
   "source": [
    "word2vec.save(\"../../models/word2vec/100k/word2vec\")"
   ]
  },
  {
   "cell_type": "code",
   "execution_count": 6,
   "metadata": {},
   "outputs": [
    {
     "name": "stdout",
     "output_type": "stream",
     "text": [
      "[('cesarz', 0.9566524028778076), ('książę', 0.9294577240943909), ('sułtan', 0.9285513162612915), ('chan', 0.8814185857772827), ('cezar', 0.8798337578773499), ('wezyr', 0.876940906047821), ('namiestnik', 0.8727129697799683), ('monarcha', 0.8645772337913513), ('car', 0.8565462827682495), ('emir', 0.8545218110084534), ('władca', 0.8508089184761047), ('faraon', 0.8469937443733215), ('filip', 0.8419310450553894), ('napoleon', 0.8393358588218689), ('legat', 0.8357589840888977), ('biskup', 0.8337263464927673), ('bazyli', 0.8313149809837341), ('szach', 0.830589771270752), ('jagiełło', 0.8295478224754333), ('aleksander', 0.8292813897132874), ('hetman', 0.8288281559944153), ('kanclerz', 0.8273566961288452), ('henryk', 0.8269472122192383), ('margrabia', 0.8268827795982361), ('wódz', 0.8266833424568176), ('kniaź', 0.8256508708000183), ('mieszko', 0.8233509063720703), ('patriarcha', 0.8233416080474854), ('hrabia', 0.8187034726142883), ('królewicz', 0.8184808492660522), ('august', 0.8177741169929504), ('elektor', 0.8137086629867554), ('karol', 0.8086785674095154), ('bolesław', 0.8063419461250305), ('klaudiusz', 0.8046408295631409), ('konrad', 0.8036312460899353), ('papież', 0.8012657761573792), ('diuk', 0.8010367751121521), ('pompejusz', 0.7996917963027954), ('arcybiskup', 0.7984232902526855), ('antoniusz', 0.7936646938323975), ('mikołaj', 0.7928184270858765), ('marszałek', 0.791541576385498), ('tyran', 0.791344404220581), ('otton', 0.7911906242370605), ('fryderyk', 0.7909896373748779), ('opat', 0.7873163223266602), ('aleksy', 0.7863375544548035), ('konstantyn', 0.7845001220703125), ('ferdynand', 0.7832082509994507), ('wojewoda', 0.782291829586029), ('dymitr', 0.7818996906280518), ('gajusz', 0.7806185483932495), ('kardynał', 0.7772538065910339), ('konsul', 0.7736086845397949), ('rycerz', 0.7724056243896484), ('rajmund', 0.7716225981712341), ('dawid', 0.7671030163764954), ('baron', 0.7670405507087708), ('pasza', 0.7627949118614197), ('iwan', 0.7618656754493713), ('sobieski', 0.7583916783332825), ('poseł', 0.7580958604812622), ('jakub', 0.7566399574279785), ('artur', 0.7558624148368835), ('salomon', 0.7556132078170776), ('protektor', 0.750590443611145), ('dziedzic', 0.7500610947608948), ('tytus', 0.7445839047431946), ('hannibal', 0.7441819310188293), ('ludwik', 0.7419407367706299), ('szejk', 0.7413123846054077), ('starosta', 0.7405935525894165), ('kasztelan', 0.7383113503456116), ('dyktator', 0.7372910976409912), ('zamoyski', 0.7372710704803467), ('bolko', 0.7367402911186218), ('rządca', 0.7365633249282837), ('szambelan', 0.7353273034095764), ('piotr', 0.7349088788032532), ('regent', 0.7348027229309082), ('skarbnik', 0.7343625426292419), ('mistrz', 0.7340888977050781), ('abram', 0.7339434623718262), ('herold', 0.7295118570327759), ('graf', 0.7293452024459839), ('lud', 0.728933572769165), ('cyrus', 0.7284305691719055), ('zwycięzca', 0.7282928824424744), ('mnich', 0.7279097437858582), ('zygmunt', 0.7272924184799194), ('przeor', 0.7261167764663696), ('szlachcic', 0.7204388976097107), ('bonaparte', 0.7200713753700256), ('otto', 0.7200577855110168), ('kapłan', 0.7191739678382874), ('chmielnicki', 0.7177563309669495), ('wójt', 0.7171884179115295), ('szymon', 0.7169293761253357), ('wilhelm', 0.7141406536102295)]\n"
     ]
    },
    {
     "ename": "",
     "evalue": "",
     "output_type": "error",
     "traceback": [
      "\u001b[1;31mThe Kernel crashed while executing code in the the current cell or a previous cell. Please review the code in the cell(s) to identify a possible cause of the failure. Click <a href='https://aka.ms/vscodeJupyterKernelCrash'>here</a> for more info. View Jupyter <a href='command:jupyter.viewOutput'>log</a> for further details."
     ]
    }
   ],
   "source": [
    "similar_words = word2vec.wv.most_similar(\"król\", topn=100)\n",
    "print(similar_words)"
   ]
  }
 ],
 "metadata": {
  "kernelspec": {
   "display_name": "Python 3",
   "language": "python",
   "name": "python3"
  },
  "language_info": {
   "codemirror_mode": {
    "name": "ipython",
    "version": 3
   },
   "file_extension": ".py",
   "mimetype": "text/x-python",
   "name": "python",
   "nbconvert_exporter": "python",
   "pygments_lexer": "ipython3",
   "version": "3.10.9"
  },
  "orig_nbformat": 4
 },
 "nbformat": 4,
 "nbformat_minor": 2
}
